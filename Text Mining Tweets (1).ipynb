{
 "cells": [
  {
   "cell_type": "markdown",
   "metadata": {},
   "source": [
    "# Text Mining Twitter Analysis"
   ]
  },
  {
   "cell_type": "code",
   "execution_count": 1,
   "metadata": {},
   "outputs": [],
   "source": [
    "from warnings import filterwarnings\n",
    "filterwarnings('ignore')"
   ]
  },
  {
   "cell_type": "markdown",
   "metadata": {},
   "source": [
    " # API Connection"
   ]
  },
  {
   "cell_type": "code",
   "execution_count": 2,
   "metadata": {
    "run_control": {
     "marked": true
    }
   },
   "outputs": [
    {
     "name": "stdout",
     "output_type": "stream",
     "text": [
      "Collecting tweepy\n",
      "  Downloading tweepy-3.10.0-py2.py3-none-any.whl (30 kB)\n",
      "Requirement already satisfied: six>=1.10.0 in c:\\users\\asus\\anaconda3\\lib\\site-packages (from tweepy) (1.15.0)\n",
      "Requirement already satisfied: requests[socks]>=2.11.1 in c:\\users\\asus\\anaconda3\\lib\\site-packages (from tweepy) (2.24.0)\n",
      "Collecting requests-oauthlib>=0.7.0\n",
      "  Downloading requests_oauthlib-1.3.0-py2.py3-none-any.whl (23 kB)\n",
      "Requirement already satisfied: chardet<4,>=3.0.2 in c:\\users\\asus\\anaconda3\\lib\\site-packages (from requests[socks]>=2.11.1->tweepy) (3.0.4)\n",
      "Requirement already satisfied: certifi>=2017.4.17 in c:\\users\\asus\\anaconda3\\lib\\site-packages (from requests[socks]>=2.11.1->tweepy) (2020.6.20)\n",
      "Requirement already satisfied: idna<3,>=2.5 in c:\\users\\asus\\anaconda3\\lib\\site-packages (from requests[socks]>=2.11.1->tweepy) (2.10)\n",
      "Requirement already satisfied: urllib3!=1.25.0,!=1.25.1,<1.26,>=1.21.1 in c:\\users\\asus\\anaconda3\\lib\\site-packages (from requests[socks]>=2.11.1->tweepy) (1.25.11)\n",
      "Requirement already satisfied: PySocks!=1.5.7,>=1.5.6; extra == \"socks\" in c:\\users\\asus\\anaconda3\\lib\\site-packages (from requests[socks]>=2.11.1->tweepy) (1.7.1)\n",
      "Collecting oauthlib>=3.0.0\n",
      "  Downloading oauthlib-3.1.0-py2.py3-none-any.whl (147 kB)\n",
      "Installing collected packages: oauthlib, requests-oauthlib, tweepy\n",
      "Successfully installed oauthlib-3.1.0 requests-oauthlib-1.3.0 tweepy-3.10.0\n"
     ]
    }
   ],
   "source": [
    " !pip install tweepy"
   ]
  },
  {
   "cell_type": "code",
   "execution_count": 3,
   "metadata": {
    "_kg_hide-input": true
   },
   "outputs": [],
   "source": [
    "import tweepy, codecs\n",
    "\n",
    "\n",
    "\n",
    "consumer_key = '5ecrgpF8KDhSZlvM8o0xSASVh'\n",
    "consumer_secret = '5MdKdPRMpgGylXBZUlHXPwnxsgwjczusIeYw1JMTUUGQ0Dcdpi'\n",
    "access_token = '330297491-56WABQRvTJnWTLG7bMnJT27Jlt9T5TYwUPiTR7hh'\n",
    "access_token_secret = 'aCmW6YbiBjIycroI5zmoXGgpsnN46P5rXbCfx69KmRBMt'\n",
    "\n",
    "auth = tweepy.OAuthHandler(consumer_key, consumer_secret)\n",
    "auth.set_access_token(access_token,access_token_secret)\n",
    "api = tweepy.API(auth)"
   ]
  },
  {
   "cell_type": "code",
   "execution_count": 4,
   "metadata": {
    "scrolled": true
   },
   "outputs": [],
   "source": [
    "# we can tweet with this code\n",
    "# api.update_status('hello from python')"
   ]
  },
  {
   "cell_type": "code",
   "execution_count": 5,
   "metadata": {},
   "outputs": [],
   "source": [
    "# we can see our friends on twitter with this code\n",
    "#api.friends()"
   ]
  },
  {
   "cell_type": "markdown",
   "metadata": {},
   "source": [
    "# Pull data from Twitter "
   ]
  },
  {
   "cell_type": "code",
   "execution_count": 4,
   "metadata": {},
   "outputs": [],
   "source": [
    "fk = api.me()"
   ]
  },
  {
   "cell_type": "code",
   "execution_count": 5,
   "metadata": {},
   "outputs": [
    {
     "data": {
      "text/plain": [
       "'fatmaakursun'"
      ]
     },
     "execution_count": 5,
     "metadata": {},
     "output_type": "execute_result"
    }
   ],
   "source": [
    "# you can follow me :)\n",
    "fk.screen_name"
   ]
  },
  {
   "cell_type": "code",
   "execution_count": 6,
   "metadata": {},
   "outputs": [
    {
     "data": {
      "text/plain": [
       "185"
      ]
     },
     "execution_count": 6,
     "metadata": {},
     "output_type": "execute_result"
    }
   ],
   "source": [
    "fk.followers_count"
   ]
  },
  {
   "cell_type": "code",
   "execution_count": 9,
   "metadata": {
    "scrolled": true
   },
   "outputs": [],
   "source": [
    "#fk.friends"
   ]
  },
  {
   "cell_type": "code",
   "execution_count": 7,
   "metadata": {
    "run_control": {
     "marked": true
    },
    "scrolled": true
   },
   "outputs": [
    {
     "name": "stdout",
     "output_type": "stream",
     "text": [
      "FriendsReunion1\n",
      "KeremBursin\n",
      "murdaworld\n",
      "CMYLMZ\n",
      "peliniioztekin\n",
      "Laurenslife3\n",
      "nypost\n",
      "LesleyAnnBrandt\n",
      "thejtheiner\n",
      "fakirhayati\n"
     ]
    }
   ],
   "source": [
    "for friend in fk.friends(count=10):\n",
    "    print(friend.screen_name)"
   ]
  },
  {
   "cell_type": "code",
   "execution_count": 8,
   "metadata": {
    "run_control": {
     "marked": true
    },
    "scrolled": true
   },
   "outputs": [
    {
     "data": {
      "text/plain": [
       "['__class__',\n",
       " '__delattr__',\n",
       " '__dict__',\n",
       " '__dir__',\n",
       " '__doc__',\n",
       " '__eq__',\n",
       " '__format__',\n",
       " '__ge__',\n",
       " '__getattribute__',\n",
       " '__getstate__',\n",
       " '__gt__',\n",
       " '__hash__',\n",
       " '__init__',\n",
       " '__init_subclass__',\n",
       " '__le__',\n",
       " '__lt__',\n",
       " '__module__',\n",
       " '__ne__',\n",
       " '__new__',\n",
       " '__reduce__',\n",
       " '__reduce_ex__',\n",
       " '__repr__',\n",
       " '__setattr__',\n",
       " '__sizeof__',\n",
       " '__str__',\n",
       " '__subclasshook__',\n",
       " '__weakref__',\n",
       " '_api',\n",
       " '_json',\n",
       " 'contributors_enabled',\n",
       " 'created_at',\n",
       " 'default_profile',\n",
       " 'default_profile_image',\n",
       " 'description',\n",
       " 'entities',\n",
       " 'favourites_count',\n",
       " 'follow',\n",
       " 'follow_request_sent',\n",
       " 'followers',\n",
       " 'followers_count',\n",
       " 'followers_ids',\n",
       " 'following',\n",
       " 'friends',\n",
       " 'friends_count',\n",
       " 'geo_enabled',\n",
       " 'has_extended_profile',\n",
       " 'id',\n",
       " 'id_str',\n",
       " 'is_translation_enabled',\n",
       " 'is_translator',\n",
       " 'lang',\n",
       " 'listed_count',\n",
       " 'lists',\n",
       " 'lists_memberships',\n",
       " 'lists_subscriptions',\n",
       " 'location',\n",
       " 'name',\n",
       " 'needs_phone_verification',\n",
       " 'notifications',\n",
       " 'parse',\n",
       " 'parse_list',\n",
       " 'profile_background_color',\n",
       " 'profile_background_image_url',\n",
       " 'profile_background_image_url_https',\n",
       " 'profile_background_tile',\n",
       " 'profile_banner_url',\n",
       " 'profile_image_url',\n",
       " 'profile_image_url_https',\n",
       " 'profile_link_color',\n",
       " 'profile_location',\n",
       " 'profile_sidebar_border_color',\n",
       " 'profile_sidebar_fill_color',\n",
       " 'profile_text_color',\n",
       " 'profile_use_background_image',\n",
       " 'protected',\n",
       " 'screen_name',\n",
       " 'status',\n",
       " 'statuses_count',\n",
       " 'suspended',\n",
       " 'time_zone',\n",
       " 'timeline',\n",
       " 'translator_type',\n",
       " 'unfollow',\n",
       " 'url',\n",
       " 'utc_offset',\n",
       " 'verified']"
      ]
     },
     "execution_count": 8,
     "metadata": {},
     "output_type": "execute_result"
    }
   ],
   "source": [
    "dir(fk)"
   ]
  },
  {
   "cell_type": "code",
   "execution_count": 9,
   "metadata": {},
   "outputs": [],
   "source": [
    "user = api.get_user(id = 'bsrakrsn')"
   ]
  },
  {
   "cell_type": "code",
   "execution_count": 10,
   "metadata": {},
   "outputs": [
    {
     "data": {
      "text/plain": [
       "'bsrakrsn'"
      ]
     },
     "execution_count": 10,
     "metadata": {},
     "output_type": "execute_result"
    }
   ],
   "source": [
    "user.screen_name"
   ]
  },
  {
   "cell_type": "code",
   "execution_count": 11,
   "metadata": {},
   "outputs": [
    {
     "data": {
      "text/plain": [
       "194"
      ]
     },
     "execution_count": 11,
     "metadata": {},
     "output_type": "execute_result"
    }
   ],
   "source": [
    "user.followers_count"
   ]
  },
  {
   "cell_type": "code",
   "execution_count": 12,
   "metadata": {},
   "outputs": [
    {
     "data": {
      "text/plain": [
       "'http://pbs.twimg.com/profile_images/1286783127562735618/X4uDtUqr_normal.jpg'"
      ]
     },
     "execution_count": 12,
     "metadata": {},
     "output_type": "execute_result"
    }
   ],
   "source": [
    "user.profile_image_url"
   ]
  },
  {
   "cell_type": "markdown",
   "metadata": {},
   "source": [
    "## home timeline"
   ]
  },
  {
   "cell_type": "code",
   "execution_count": 13,
   "metadata": {},
   "outputs": [],
   "source": [
    "public_tweets = api.home_timeline(count=10)"
   ]
  },
  {
   "cell_type": "code",
   "execution_count": 14,
   "metadata": {},
   "outputs": [
    {
     "name": "stdout",
     "output_type": "stream",
     "text": [
      "https://t.co/PPofUNvYm5\n",
      "Turizm kentlerinde tam kapanma önerisi https://t.co/PNxSUytRk8 https://t.co/Zg4LyPeLzv\n",
      "Montrö bildirisinde WhatsApp’a sızıldı iddiası @mesuthasanbenli\n",
      "haberi...\n",
      "https://t.co/aF79q582Va\n",
      "CHP'li Tabel: Çevre eğitimi için Almanya'ya gönderilen 43 kişi geri dönmedi\n",
      "https://t.co/lBaPtBcOsn https://t.co/FrbUV164zX\n",
      "RT @BilimveDusunce: Azmin zaferi, sonunda beraber seyahati başarıyorlar :)\n",
      "\n",
      " https://t.co/lrYVdLUkUV\n",
      "RT @psycanaliz: ÇEKİLİŞ | 13 Nisan Salı gün 23:00 kadar @psycanaliz ve @RonartSanat hesaplarını takip eden, gönderiyi beğenen ve retweet ed…\n",
      "RT @Ronald_vanLoon: Flying #autonomous #robots that can pick fruits\n",
      "by @mashable\n",
      "\n",
      "#Drones #Robotics #RPA #AI #ArtificialIntelligence #Suppl…\n",
      "Japanese COVID-19 patient undergoes first living donor lung transplant https://t.co/zaHkn1W56b https://t.co/yqz8lauDKI\n",
      "Prince Philip on royal duty: In his own words https://t.co/fT0xvxXyZj\n",
      "RT @KelebekMag: Koronavirüsü atlattık diyelim, peki sonra? https://t.co/pM7EFTFCbO https://t.co/JfP0Cz2O13\n"
     ]
    }
   ],
   "source": [
    "for tweet in public_tweets:\n",
    "    print(tweet.text)"
   ]
  },
  {
   "cell_type": "markdown",
   "metadata": {},
   "source": [
    "## user time line "
   ]
  },
  {
   "cell_type": "code",
   "execution_count": 15,
   "metadata": {},
   "outputs": [
    {
     "name": "stdout",
     "output_type": "stream",
     "text": [
      "Nice writeup by @Analyticsindiam on why I think we should move from model-centric AI development (where the emphasi… https://t.co/ybPIsR7u8T\n",
      "RT @NYSE: .@Coursera (NYSE: $COUR) virtually rings the Opening Bell to celebrate its IPO today 🔔 https://t.co/4EueLNmJGf\n",
      "When I think about what we can do to build a brighter future for our children, the most important thing is to creat… https://t.co/2MlxCIoWMA\n",
      "@lmthang Thank you @lmthang!\n",
      "To everyone speaking privately or publicly to   #StopAsianHate, I want to say: Thank you.\n",
      "I’ve been thinking about how to accelerate how all of us build and deploy ML, and have some ideas I want to share.… https://t.co/kTpWnLlzv6\n",
      "RT @Berci: 1/3\n",
      "\n",
      "Check out this simple visual on the deployment of A.I. in healthcare: This is exactly why I’m subscribed to ‘The Batch’, th…\n",
      "@insanedreamer @erikbryn @ESYudkowsky @chrmanning @FutureJurvetson @tegmark If GPT-3 reads The Matrix script and wr… https://t.co/OwxZ4bKb6p\n",
      "Seeing these exuberant, cheering faces is a great reminder that Perseverance's technology success is also a human s… https://t.co/paopAao9rw\n",
      "126 million miles away, Perseverance decelerated from 12,000 miles/hour to 0 miles/hour to land safely. Great job @NASA team!\n"
     ]
    }
   ],
   "source": [
    "name = 'AndrewYNg'\n",
    "tweet_count = 10\n",
    "\n",
    "user_timeline = api.user_timeline(id = name, count=tweet_count)\n",
    "\n",
    "for i in user_timeline:\n",
    "    print(i.text)"
   ]
  },
  {
   "cell_type": "markdown",
   "metadata": {},
   "source": [
    "## retweets"
   ]
  },
  {
   "cell_type": "code",
   "execution_count": 16,
   "metadata": {},
   "outputs": [],
   "source": [
    "retweets = api.retweets_of_me(count=10)\n",
    "for retweet in retweets:\n",
    "    print(retweet.text)"
   ]
  },
  {
   "cell_type": "code",
   "execution_count": 17,
   "metadata": {},
   "outputs": [
    {
     "data": {
      "text/plain": [
       "[]"
      ]
     },
     "execution_count": 17,
     "metadata": {},
     "output_type": "execute_result"
    }
   ],
   "source": [
    "retweets"
   ]
  },
  {
   "cell_type": "markdown",
   "metadata": {},
   "source": [
    "## hastag"
   ]
  },
  {
   "cell_type": "code",
   "execution_count": 18,
   "metadata": {},
   "outputs": [],
   "source": [
    "results = api.search(q = '#datascience',\n",
    "                    lang = 'tr',\n",
    "                    result_type = 'recent',\n",
    "                    count = 1000000 )"
   ]
  },
  {
   "cell_type": "markdown",
   "metadata": {},
   "source": [
    "## convert to dataframe "
   ]
  },
  {
   "cell_type": "code",
   "execution_count": 19,
   "metadata": {},
   "outputs": [],
   "source": [
    "import pandas as pd"
   ]
  },
  {
   "cell_type": "code",
   "execution_count": 20,
   "metadata": {},
   "outputs": [],
   "source": [
    "def tweets_df(results):\n",
    "    id_list = [tweet.id for tweet in results]\n",
    "    data_set = pd.DataFrame(id_list,columns=['id'])\n",
    "    \n",
    "    \n",
    "    data_set['text'] = [tweet.text for tweet in results]\n",
    "    data_set['created_at'] = [tweet.created_at for tweet in results]\n",
    "    data_set['retweet_count'] = [tweet.retweet_count for tweet in results]\n",
    "    data_set['name'] = [tweet.author.name for tweet in results]\n",
    "    data_set['user_screen_name'] = [tweet.author.screen_name for tweet in results]\n",
    "    data_set['user_followers_count'] = [tweet.author.followers_count for tweet in results]\n",
    "    data_set['user_location'] = [tweet.author.location for tweet in results]\n",
    "    data_set['Hashtags'] = [tweet.entities.get('hashtags') for tweet in results]\n",
    "    \n",
    "    return data_set"
   ]
  },
  {
   "cell_type": "code",
   "execution_count": 22,
   "metadata": {},
   "outputs": [],
   "source": [
    "data = tweets_df(results)"
   ]
  },
  {
   "cell_type": "code",
   "execution_count": 23,
   "metadata": {},
   "outputs": [
    {
     "data": {
      "text/html": [
       "<div>\n",
       "<style scoped>\n",
       "    .dataframe tbody tr th:only-of-type {\n",
       "        vertical-align: middle;\n",
       "    }\n",
       "\n",
       "    .dataframe tbody tr th {\n",
       "        vertical-align: top;\n",
       "    }\n",
       "\n",
       "    .dataframe thead th {\n",
       "        text-align: right;\n",
       "    }\n",
       "</style>\n",
       "<table border=\"1\" class=\"dataframe\">\n",
       "  <thead>\n",
       "    <tr style=\"text-align: right;\">\n",
       "      <th></th>\n",
       "      <th>id</th>\n",
       "      <th>text</th>\n",
       "      <th>created_at</th>\n",
       "      <th>retweet_count</th>\n",
       "      <th>name</th>\n",
       "      <th>user_screen_name</th>\n",
       "      <th>user_followers_count</th>\n",
       "      <th>user_location</th>\n",
       "      <th>Hashtags</th>\n",
       "    </tr>\n",
       "  </thead>\n",
       "  <tbody>\n",
       "    <tr>\n",
       "      <th>0</th>\n",
       "      <td>1380885726498291714</td>\n",
       "      <td>RT @EasternStyle1: RoboMaster #DEVCommunity #P...</td>\n",
       "      <td>2021-04-10 14:09:47</td>\n",
       "      <td>5</td>\n",
       "      <td>Another Programmer Bot</td>\n",
       "      <td>aProgrammerBot</td>\n",
       "      <td>410</td>\n",
       "      <td></td>\n",
       "      <td>[{'text': 'DEVCommunity', 'indices': [30, 43]}...</td>\n",
       "    </tr>\n",
       "    <tr>\n",
       "      <th>1</th>\n",
       "      <td>1380885704473866250</td>\n",
       "      <td>RT @EasternStyle1: RoboMaster #DEVCommunity #P...</td>\n",
       "      <td>2021-04-10 14:09:42</td>\n",
       "      <td>5</td>\n",
       "      <td>Chidambara .ML.</td>\n",
       "      <td>chidambara09</td>\n",
       "      <td>8907</td>\n",
       "      <td>Mysore  and  BERLIN</td>\n",
       "      <td>[{'text': 'DEVCommunity', 'indices': [30, 43]}...</td>\n",
       "    </tr>\n",
       "    <tr>\n",
       "      <th>2</th>\n",
       "      <td>1380866287144931331</td>\n",
       "      <td>RT @EasternStyle1: RoboMaster #DEVCommunity #P...</td>\n",
       "      <td>2021-04-10 12:52:32</td>\n",
       "      <td>5</td>\n",
       "      <td>nodejs-bot</td>\n",
       "      <td>morolswediu</td>\n",
       "      <td>1213</td>\n",
       "      <td>Dhaka, Bangladesh</td>\n",
       "      <td>[{'text': 'DEVCommunity', 'indices': [30, 43]}...</td>\n",
       "    </tr>\n",
       "    <tr>\n",
       "      <th>3</th>\n",
       "      <td>1380866071897513985</td>\n",
       "      <td>RT @EasternStyle1: RoboMaster #DEVCommunity #P...</td>\n",
       "      <td>2021-04-10 12:51:41</td>\n",
       "      <td>5</td>\n",
       "      <td>CodeNewbie</td>\n",
       "      <td>newbie_codes</td>\n",
       "      <td>483</td>\n",
       "      <td></td>\n",
       "      <td>[{'text': 'DEVCommunity', 'indices': [30, 43]}...</td>\n",
       "    </tr>\n",
       "    <tr>\n",
       "      <th>4</th>\n",
       "      <td>1380863556518744066</td>\n",
       "      <td>RoboMaster #DEVCommunity #Programming #IoT #Io...</td>\n",
       "      <td>2021-04-10 12:41:41</td>\n",
       "      <td>5</td>\n",
       "      <td>Eastern Style</td>\n",
       "      <td>EasternStyle1</td>\n",
       "      <td>1327</td>\n",
       "      <td>Belgium</td>\n",
       "      <td>[{'text': 'DEVCommunity', 'indices': [11, 24]}...</td>\n",
       "    </tr>\n",
       "  </tbody>\n",
       "</table>\n",
       "</div>"
      ],
      "text/plain": [
       "                    id                                               text  \\\n",
       "0  1380885726498291714  RT @EasternStyle1: RoboMaster #DEVCommunity #P...   \n",
       "1  1380885704473866250  RT @EasternStyle1: RoboMaster #DEVCommunity #P...   \n",
       "2  1380866287144931331  RT @EasternStyle1: RoboMaster #DEVCommunity #P...   \n",
       "3  1380866071897513985  RT @EasternStyle1: RoboMaster #DEVCommunity #P...   \n",
       "4  1380863556518744066  RoboMaster #DEVCommunity #Programming #IoT #Io...   \n",
       "\n",
       "           created_at  retweet_count                    name user_screen_name  \\\n",
       "0 2021-04-10 14:09:47              5  Another Programmer Bot   aProgrammerBot   \n",
       "1 2021-04-10 14:09:42              5         Chidambara .ML.     chidambara09   \n",
       "2 2021-04-10 12:52:32              5              nodejs-bot      morolswediu   \n",
       "3 2021-04-10 12:51:41              5              CodeNewbie     newbie_codes   \n",
       "4 2021-04-10 12:41:41              5           Eastern Style    EasternStyle1   \n",
       "\n",
       "   user_followers_count        user_location  \\\n",
       "0                   410                        \n",
       "1                  8907  Mysore  and  BERLIN   \n",
       "2                  1213    Dhaka, Bangladesh   \n",
       "3                   483                        \n",
       "4                  1327              Belgium   \n",
       "\n",
       "                                            Hashtags  \n",
       "0  [{'text': 'DEVCommunity', 'indices': [30, 43]}...  \n",
       "1  [{'text': 'DEVCommunity', 'indices': [30, 43]}...  \n",
       "2  [{'text': 'DEVCommunity', 'indices': [30, 43]}...  \n",
       "3  [{'text': 'DEVCommunity', 'indices': [30, 43]}...  \n",
       "4  [{'text': 'DEVCommunity', 'indices': [11, 24]}...  "
      ]
     },
     "execution_count": 23,
     "metadata": {},
     "output_type": "execute_result"
    }
   ],
   "source": [
    "data.head()"
   ]
  },
  {
   "cell_type": "markdown",
   "metadata": {},
   "source": [
    "# Profile Analysis"
   ]
  },
  {
   "cell_type": "code",
   "execution_count": 24,
   "metadata": {},
   "outputs": [],
   "source": [
    "AndrewNg = api.get_user('AndrewYNg')"
   ]
  },
  {
   "cell_type": "code",
   "execution_count": 25,
   "metadata": {},
   "outputs": [
    {
     "data": {
      "text/plain": [
       "'Andrew Ng'"
      ]
     },
     "execution_count": 25,
     "metadata": {},
     "output_type": "execute_result"
    }
   ],
   "source": [
    "AndrewNg.name"
   ]
  },
  {
   "cell_type": "code",
   "execution_count": 26,
   "metadata": {},
   "outputs": [
    {
     "data": {
      "text/plain": [
       "216939636"
      ]
     },
     "execution_count": 26,
     "metadata": {},
     "output_type": "execute_result"
    }
   ],
   "source": [
    "AndrewNg.id"
   ]
  },
  {
   "cell_type": "code",
   "execution_count": 27,
   "metadata": {},
   "outputs": [
    {
     "data": {
      "text/plain": [
       "'https://t.co/XidcMETENd'"
      ]
     },
     "execution_count": 27,
     "metadata": {},
     "output_type": "execute_result"
    }
   ],
   "source": [
    "AndrewNg.url"
   ]
  },
  {
   "cell_type": "code",
   "execution_count": 28,
   "metadata": {},
   "outputs": [
    {
     "data": {
      "text/plain": [
       "True"
      ]
     },
     "execution_count": 28,
     "metadata": {},
     "output_type": "execute_result"
    }
   ],
   "source": [
    "AndrewNg.verified"
   ]
  },
  {
   "cell_type": "code",
   "execution_count": 29,
   "metadata": {},
   "outputs": [
    {
     "data": {
      "text/plain": [
       "'AndrewYNg'"
      ]
     },
     "execution_count": 29,
     "metadata": {},
     "output_type": "execute_result"
    }
   ],
   "source": [
    "AndrewNg.screen_name"
   ]
  },
  {
   "cell_type": "code",
   "execution_count": 30,
   "metadata": {
    "scrolled": true
   },
   "outputs": [
    {
     "data": {
      "text/plain": [
       "1350"
      ]
     },
     "execution_count": 30,
     "metadata": {},
     "output_type": "execute_result"
    }
   ],
   "source": [
    "AndrewNg.statuses_count"
   ]
  },
  {
   "cell_type": "code",
   "execution_count": 31,
   "metadata": {},
   "outputs": [
    {
     "data": {
      "text/plain": [
       "1120"
      ]
     },
     "execution_count": 31,
     "metadata": {},
     "output_type": "execute_result"
    }
   ],
   "source": [
    "AndrewNg.favourites_count"
   ]
  },
  {
   "cell_type": "code",
   "execution_count": 32,
   "metadata": {},
   "outputs": [
    {
     "data": {
      "text/plain": [
       "551"
      ]
     },
     "execution_count": 32,
     "metadata": {},
     "output_type": "execute_result"
    }
   ],
   "source": [
    "AndrewNg.friends_count"
   ]
  },
  {
   "cell_type": "code",
   "execution_count": 33,
   "metadata": {},
   "outputs": [],
   "source": [
    "tweets = api.user_timeline(id = 'AndrewYNg')"
   ]
  },
  {
   "cell_type": "code",
   "execution_count": 34,
   "metadata": {
    "scrolled": true
   },
   "outputs": [
    {
     "data": {
      "text/plain": [
       "'for i in tweets:\\n    print(i.text)'"
      ]
     },
     "execution_count": 34,
     "metadata": {},
     "output_type": "execute_result"
    }
   ],
   "source": [
    "\"\"\"for i in tweets:\n",
    "    print(i.text)\"\"\""
   ]
  },
  {
   "cell_type": "code",
   "execution_count": 35,
   "metadata": {},
   "outputs": [],
   "source": [
    "def timeline_df(tweets):\n",
    "    id_list = [tweet.id for tweet in tweets]\n",
    "    data_set = pd.DataFrame(id_list,columns=['id'])\n",
    "    \n",
    "    \n",
    "    data_set['text'] = [tweet.text for tweet in tweets]\n",
    "    data_set['created_at'] = [tweet.created_at for tweet in tweets]\n",
    "    data_set['retweet_count'] = [tweet.retweet_count for tweet in tweets]\n",
    "    data_set['favorite_count'] = [tweet.favorite_count for tweet in tweets]\n",
    "    data_set['source'] = [tweet.source for tweet in tweets]\n",
    "\n",
    "    \n",
    "    return data_set"
   ]
  },
  {
   "cell_type": "code",
   "execution_count": 36,
   "metadata": {
    "scrolled": true
   },
   "outputs": [
    {
     "data": {
      "text/html": [
       "<div>\n",
       "<style scoped>\n",
       "    .dataframe tbody tr th:only-of-type {\n",
       "        vertical-align: middle;\n",
       "    }\n",
       "\n",
       "    .dataframe tbody tr th {\n",
       "        vertical-align: top;\n",
       "    }\n",
       "\n",
       "    .dataframe thead th {\n",
       "        text-align: right;\n",
       "    }\n",
       "</style>\n",
       "<table border=\"1\" class=\"dataframe\">\n",
       "  <thead>\n",
       "    <tr style=\"text-align: right;\">\n",
       "      <th></th>\n",
       "      <th>id</th>\n",
       "      <th>text</th>\n",
       "      <th>created_at</th>\n",
       "      <th>retweet_count</th>\n",
       "      <th>favorite_count</th>\n",
       "      <th>source</th>\n",
       "    </tr>\n",
       "  </thead>\n",
       "  <tbody>\n",
       "    <tr>\n",
       "      <th>0</th>\n",
       "      <td>1379606096738836481</td>\n",
       "      <td>Nice writeup by @Analyticsindiam on why I thin...</td>\n",
       "      <td>2021-04-07 01:24:59</td>\n",
       "      <td>240</td>\n",
       "      <td>1152</td>\n",
       "      <td>Twitter Web App</td>\n",
       "    </tr>\n",
       "    <tr>\n",
       "      <th>1</th>\n",
       "      <td>1377347469021900802</td>\n",
       "      <td>RT @NYSE: .@Coursera (NYSE: $COUR) virtually r...</td>\n",
       "      <td>2021-03-31 19:50:01</td>\n",
       "      <td>143</td>\n",
       "      <td>0</td>\n",
       "      <td>Twitter Web App</td>\n",
       "    </tr>\n",
       "    <tr>\n",
       "      <th>2</th>\n",
       "      <td>1377295625742475265</td>\n",
       "      <td>When I think about what we can do to build a b...</td>\n",
       "      <td>2021-03-31 16:24:00</td>\n",
       "      <td>620</td>\n",
       "      <td>5353</td>\n",
       "      <td>Twitter Web App</td>\n",
       "    </tr>\n",
       "    <tr>\n",
       "      <th>3</th>\n",
       "      <td>1374850170995675136</td>\n",
       "      <td>@lmthang Thank you @lmthang!</td>\n",
       "      <td>2021-03-24 22:26:38</td>\n",
       "      <td>1</td>\n",
       "      <td>12</td>\n",
       "      <td>Twitter Web App</td>\n",
       "    </tr>\n",
       "    <tr>\n",
       "      <th>4</th>\n",
       "      <td>1373729845180473344</td>\n",
       "      <td>To everyone speaking privately or publicly to ...</td>\n",
       "      <td>2021-03-21 20:14:52</td>\n",
       "      <td>401</td>\n",
       "      <td>4680</td>\n",
       "      <td>Twitter Web App</td>\n",
       "    </tr>\n",
       "    <tr>\n",
       "      <th>5</th>\n",
       "      <td>1371912122867752961</td>\n",
       "      <td>I’ve been thinking about how to accelerate how...</td>\n",
       "      <td>2021-03-16 19:51:53</td>\n",
       "      <td>247</td>\n",
       "      <td>1154</td>\n",
       "      <td>Twitter Web App</td>\n",
       "    </tr>\n",
       "    <tr>\n",
       "      <th>6</th>\n",
       "      <td>1366527194957189122</td>\n",
       "      <td>RT @Berci: 1/3\\n\\nCheck out this simple visual...</td>\n",
       "      <td>2021-03-01 23:14:06</td>\n",
       "      <td>25</td>\n",
       "      <td>0</td>\n",
       "      <td>Twitter Web App</td>\n",
       "    </tr>\n",
       "    <tr>\n",
       "      <th>7</th>\n",
       "      <td>1364425644642168832</td>\n",
       "      <td>@insanedreamer @erikbryn @ESYudkowsky @chrmann...</td>\n",
       "      <td>2021-02-24 04:03:18</td>\n",
       "      <td>6</td>\n",
       "      <td>100</td>\n",
       "      <td>Twitter Web App</td>\n",
       "    </tr>\n",
       "    <tr>\n",
       "      <th>8</th>\n",
       "      <td>1362529142273576961</td>\n",
       "      <td>Seeing these exuberant, cheering faces is a gr...</td>\n",
       "      <td>2021-02-18 22:27:16</td>\n",
       "      <td>92</td>\n",
       "      <td>768</td>\n",
       "      <td>Twitter Web App</td>\n",
       "    </tr>\n",
       "    <tr>\n",
       "      <th>9</th>\n",
       "      <td>1362514974174629889</td>\n",
       "      <td>126 million miles away, Perseverance decelerat...</td>\n",
       "      <td>2021-02-18 21:30:58</td>\n",
       "      <td>121</td>\n",
       "      <td>1667</td>\n",
       "      <td>Twitter Web App</td>\n",
       "    </tr>\n",
       "    <tr>\n",
       "      <th>10</th>\n",
       "      <td>1361792605957148674</td>\n",
       "      <td>Bearing is using AI to streamline maritime shi...</td>\n",
       "      <td>2021-02-16 21:40:32</td>\n",
       "      <td>79</td>\n",
       "      <td>456</td>\n",
       "      <td>Twitter Web App</td>\n",
       "    </tr>\n",
       "    <tr>\n",
       "      <th>11</th>\n",
       "      <td>1359339705754525704</td>\n",
       "      <td>We just reached the milestone of 10.0% of the ...</td>\n",
       "      <td>2021-02-10 03:13:35</td>\n",
       "      <td>80</td>\n",
       "      <td>1061</td>\n",
       "      <td>Twitter Web App</td>\n",
       "    </tr>\n",
       "    <tr>\n",
       "      <th>12</th>\n",
       "      <td>1354489514652131328</td>\n",
       "      <td>In 2021, what do you think is the single most ...</td>\n",
       "      <td>2021-01-27 18:00:40</td>\n",
       "      <td>541</td>\n",
       "      <td>3844</td>\n",
       "      <td>Twitter Web App</td>\n",
       "    </tr>\n",
       "    <tr>\n",
       "      <th>13</th>\n",
       "      <td>1353814743190913024</td>\n",
       "      <td>I'm with @fchollet on this. There're some best...</td>\n",
       "      <td>2021-01-25 21:19:22</td>\n",
       "      <td>160</td>\n",
       "      <td>951</td>\n",
       "      <td>Twitter Web App</td>\n",
       "    </tr>\n",
       "    <tr>\n",
       "      <th>14</th>\n",
       "      <td>1353809492337594378</td>\n",
       "      <td>Covid's viral spread showed the speed and powe...</td>\n",
       "      <td>2021-01-25 20:58:30</td>\n",
       "      <td>95</td>\n",
       "      <td>888</td>\n",
       "      <td>Twitter Web App</td>\n",
       "    </tr>\n",
       "    <tr>\n",
       "      <th>15</th>\n",
       "      <td>1352013474432389121</td>\n",
       "      <td>I just told my daughter that if we can have a ...</td>\n",
       "      <td>2021-01-20 22:01:46</td>\n",
       "      <td>381</td>\n",
       "      <td>8527</td>\n",
       "      <td>Twitter Web App</td>\n",
       "    </tr>\n",
       "    <tr>\n",
       "      <th>16</th>\n",
       "      <td>1351942823235371008</td>\n",
       "      <td>Here's to wishing President @JoeBiden and VP @...</td>\n",
       "      <td>2021-01-20 17:21:01</td>\n",
       "      <td>59</td>\n",
       "      <td>1448</td>\n",
       "      <td>Twitter Web App</td>\n",
       "    </tr>\n",
       "    <tr>\n",
       "      <th>17</th>\n",
       "      <td>1351593845264244736</td>\n",
       "      <td>RT @pranavrajpurkar: Does higher performance o...</td>\n",
       "      <td>2021-01-19 18:14:18</td>\n",
       "      <td>98</td>\n",
       "      <td>0</td>\n",
       "      <td>Twitter Web App</td>\n",
       "    </tr>\n",
       "    <tr>\n",
       "      <th>18</th>\n",
       "      <td>1351423037753606144</td>\n",
       "      <td>Today is Martin Luther King Jr. day. After the...</td>\n",
       "      <td>2021-01-19 06:55:35</td>\n",
       "      <td>24</td>\n",
       "      <td>309</td>\n",
       "      <td>Twitter Web App</td>\n",
       "    </tr>\n",
       "    <tr>\n",
       "      <th>19</th>\n",
       "      <td>1349939265250082824</td>\n",
       "      <td>RT @realSharonZhou: Excited to share our #ICLR...</td>\n",
       "      <td>2021-01-15 04:39:36</td>\n",
       "      <td>68</td>\n",
       "      <td>0</td>\n",
       "      <td>Twitter Web App</td>\n",
       "    </tr>\n",
       "  </tbody>\n",
       "</table>\n",
       "</div>"
      ],
      "text/plain": [
       "                     id                                               text  \\\n",
       "0   1379606096738836481  Nice writeup by @Analyticsindiam on why I thin...   \n",
       "1   1377347469021900802  RT @NYSE: .@Coursera (NYSE: $COUR) virtually r...   \n",
       "2   1377295625742475265  When I think about what we can do to build a b...   \n",
       "3   1374850170995675136                       @lmthang Thank you @lmthang!   \n",
       "4   1373729845180473344  To everyone speaking privately or publicly to ...   \n",
       "5   1371912122867752961  I’ve been thinking about how to accelerate how...   \n",
       "6   1366527194957189122  RT @Berci: 1/3\\n\\nCheck out this simple visual...   \n",
       "7   1364425644642168832  @insanedreamer @erikbryn @ESYudkowsky @chrmann...   \n",
       "8   1362529142273576961  Seeing these exuberant, cheering faces is a gr...   \n",
       "9   1362514974174629889  126 million miles away, Perseverance decelerat...   \n",
       "10  1361792605957148674  Bearing is using AI to streamline maritime shi...   \n",
       "11  1359339705754525704  We just reached the milestone of 10.0% of the ...   \n",
       "12  1354489514652131328  In 2021, what do you think is the single most ...   \n",
       "13  1353814743190913024  I'm with @fchollet on this. There're some best...   \n",
       "14  1353809492337594378  Covid's viral spread showed the speed and powe...   \n",
       "15  1352013474432389121  I just told my daughter that if we can have a ...   \n",
       "16  1351942823235371008  Here's to wishing President @JoeBiden and VP @...   \n",
       "17  1351593845264244736  RT @pranavrajpurkar: Does higher performance o...   \n",
       "18  1351423037753606144  Today is Martin Luther King Jr. day. After the...   \n",
       "19  1349939265250082824  RT @realSharonZhou: Excited to share our #ICLR...   \n",
       "\n",
       "            created_at  retweet_count  favorite_count           source  \n",
       "0  2021-04-07 01:24:59            240            1152  Twitter Web App  \n",
       "1  2021-03-31 19:50:01            143               0  Twitter Web App  \n",
       "2  2021-03-31 16:24:00            620            5353  Twitter Web App  \n",
       "3  2021-03-24 22:26:38              1              12  Twitter Web App  \n",
       "4  2021-03-21 20:14:52            401            4680  Twitter Web App  \n",
       "5  2021-03-16 19:51:53            247            1154  Twitter Web App  \n",
       "6  2021-03-01 23:14:06             25               0  Twitter Web App  \n",
       "7  2021-02-24 04:03:18              6             100  Twitter Web App  \n",
       "8  2021-02-18 22:27:16             92             768  Twitter Web App  \n",
       "9  2021-02-18 21:30:58            121            1667  Twitter Web App  \n",
       "10 2021-02-16 21:40:32             79             456  Twitter Web App  \n",
       "11 2021-02-10 03:13:35             80            1061  Twitter Web App  \n",
       "12 2021-01-27 18:00:40            541            3844  Twitter Web App  \n",
       "13 2021-01-25 21:19:22            160             951  Twitter Web App  \n",
       "14 2021-01-25 20:58:30             95             888  Twitter Web App  \n",
       "15 2021-01-20 22:01:46            381            8527  Twitter Web App  \n",
       "16 2021-01-20 17:21:01             59            1448  Twitter Web App  \n",
       "17 2021-01-19 18:14:18             98               0  Twitter Web App  \n",
       "18 2021-01-19 06:55:35             24             309  Twitter Web App  \n",
       "19 2021-01-15 04:39:36             68               0  Twitter Web App  "
      ]
     },
     "execution_count": 36,
     "metadata": {},
     "output_type": "execute_result"
    }
   ],
   "source": [
    "timeline_df(tweets)"
   ]
  },
  {
   "cell_type": "code",
   "execution_count": 37,
   "metadata": {},
   "outputs": [],
   "source": [
    "def timeline_df(tweets):\n",
    "    df = pd.DataFrame()\n",
    "    \n",
    "    df['id'] = list(map(lambda tweet:tweet.id, tweets))\n",
    "    df['created_at'] = list(map(lambda tweet:tweet.created_at, tweets))\n",
    "    df['text'] = list(map(lambda tweet:tweet.text, tweets)) \n",
    "    df['favorite_count'] = list(map(lambda tweet:tweet.favorite_count, tweets))\n",
    "    df['retweeted_count'] = list(map(lambda tweet:tweet.retweet_count, tweets))\n",
    "    df['source'] = list(map(lambda tweet:tweet.source, tweets))\n",
    "    return df"
   ]
  },
  {
   "cell_type": "code",
   "execution_count": 38,
   "metadata": {},
   "outputs": [],
   "source": [
    "tweets = api.user_timeline(id = 'AndrewYNg',count=10000)"
   ]
  },
  {
   "cell_type": "code",
   "execution_count": 39,
   "metadata": {
    "scrolled": true
   },
   "outputs": [],
   "source": [
    "df = timeline_df(tweets)"
   ]
  },
  {
   "cell_type": "code",
   "execution_count": 40,
   "metadata": {},
   "outputs": [
    {
     "name": "stdout",
     "output_type": "stream",
     "text": [
      "<class 'pandas.core.frame.DataFrame'>\n",
      "RangeIndex: 200 entries, 0 to 199\n",
      "Data columns (total 6 columns):\n",
      " #   Column           Non-Null Count  Dtype         \n",
      "---  ------           --------------  -----         \n",
      " 0   id               200 non-null    int64         \n",
      " 1   created_at       200 non-null    datetime64[ns]\n",
      " 2   text             200 non-null    object        \n",
      " 3   favorite_count   200 non-null    int64         \n",
      " 4   retweeted_count  200 non-null    int64         \n",
      " 5   source           200 non-null    object        \n",
      "dtypes: datetime64[ns](1), int64(3), object(2)\n",
      "memory usage: 9.5+ KB\n"
     ]
    }
   ],
   "source": [
    "df.info()"
   ]
  },
  {
   "cell_type": "code",
   "execution_count": 43,
   "metadata": {
    "scrolled": true
   },
   "outputs": [
    {
     "data": {
      "text/html": [
       "<div>\n",
       "<style scoped>\n",
       "    .dataframe tbody tr th:only-of-type {\n",
       "        vertical-align: middle;\n",
       "    }\n",
       "\n",
       "    .dataframe tbody tr th {\n",
       "        vertical-align: top;\n",
       "    }\n",
       "\n",
       "    .dataframe thead th {\n",
       "        text-align: right;\n",
       "    }\n",
       "</style>\n",
       "<table border=\"1\" class=\"dataframe\">\n",
       "  <thead>\n",
       "    <tr style=\"text-align: right;\">\n",
       "      <th></th>\n",
       "      <th>id</th>\n",
       "      <th>created_at</th>\n",
       "      <th>text</th>\n",
       "      <th>favorite_count</th>\n",
       "      <th>retweeted_count</th>\n",
       "      <th>source</th>\n",
       "    </tr>\n",
       "  </thead>\n",
       "  <tbody>\n",
       "    <tr>\n",
       "      <td>196</td>\n",
       "      <td>973781600751308800</td>\n",
       "      <td>2018-03-14 04:43:20</td>\n",
       "      <td>Stephen Hawking once said, \"I'm not afraid of ...</td>\n",
       "      <td>14966</td>\n",
       "      <td>4279</td>\n",
       "      <td>Twitter Web Client</td>\n",
       "    </tr>\n",
       "    <tr>\n",
       "      <td>173</td>\n",
       "      <td>1006204761543081984</td>\n",
       "      <td>2018-06-11 16:01:24</td>\n",
       "      <td>AI+ethics is important, but has been partly hi...</td>\n",
       "      <td>6364</td>\n",
       "      <td>2391</td>\n",
       "      <td>Twitter Web Client</td>\n",
       "    </tr>\n",
       "    <tr>\n",
       "      <td>34</td>\n",
       "      <td>1144668413140144128</td>\n",
       "      <td>2019-06-28 18:06:31</td>\n",
       "      <td>I’m glad DeepNude is dead. As a person and as ...</td>\n",
       "      <td>8035</td>\n",
       "      <td>1934</td>\n",
       "      <td>Twitter Web Client</td>\n",
       "    </tr>\n",
       "    <tr>\n",
       "      <td>144</td>\n",
       "      <td>1045399898537873408</td>\n",
       "      <td>2018-09-27 19:48:53</td>\n",
       "      <td>Deep Learning is getting really good on Big Da...</td>\n",
       "      <td>5052</td>\n",
       "      <td>1442</td>\n",
       "      <td>Twitter Web Client</td>\n",
       "    </tr>\n",
       "    <tr>\n",
       "      <td>77</td>\n",
       "      <td>1101150955389706243</td>\n",
       "      <td>2019-02-28 16:03:40</td>\n",
       "      <td>AI For Everyone is now available on @Coursera!...</td>\n",
       "      <td>4243</td>\n",
       "      <td>1409</td>\n",
       "      <td>Twitter Web Client</td>\n",
       "    </tr>\n",
       "    <tr>\n",
       "      <td>...</td>\n",
       "      <td>...</td>\n",
       "      <td>...</td>\n",
       "      <td>...</td>\n",
       "      <td>...</td>\n",
       "      <td>...</td>\n",
       "      <td>...</td>\n",
       "    </tr>\n",
       "    <tr>\n",
       "      <td>17</td>\n",
       "      <td>1207755422603464704</td>\n",
       "      <td>2019-12-19 20:11:46</td>\n",
       "      <td>The community has grown so much that we no lon...</td>\n",
       "      <td>121</td>\n",
       "      <td>3</td>\n",
       "      <td>Twitter Web App</td>\n",
       "    </tr>\n",
       "    <tr>\n",
       "      <td>188</td>\n",
       "      <td>988455729194389504</td>\n",
       "      <td>2018-04-23 16:33:05</td>\n",
       "      <td>@amritrp @CadeMetz Difference between AI vs. e...</td>\n",
       "      <td>16</td>\n",
       "      <td>2</td>\n",
       "      <td>Twitter Web Client</td>\n",
       "    </tr>\n",
       "    <tr>\n",
       "      <td>57</td>\n",
       "      <td>1113501712457793536</td>\n",
       "      <td>2019-04-03 18:01:10</td>\n",
       "      <td>@ruskin147 @BBCTechTent Great to see you and t...</td>\n",
       "      <td>13</td>\n",
       "      <td>2</td>\n",
       "      <td>Twitter for iPhone</td>\n",
       "    </tr>\n",
       "    <tr>\n",
       "      <td>85</td>\n",
       "      <td>1098273815690268672</td>\n",
       "      <td>2019-02-20 17:30:57</td>\n",
       "      <td>@kchonyc @honglaklee Thank you Kyunghyun! No n...</td>\n",
       "      <td>54</td>\n",
       "      <td>1</td>\n",
       "      <td>Twitter Web Client</td>\n",
       "    </tr>\n",
       "    <tr>\n",
       "      <td>54</td>\n",
       "      <td>1114316960341172225</td>\n",
       "      <td>2019-04-06 00:00:41</td>\n",
       "      <td>@KelvinPaschal @goodfellow_ian @tim_cook Yes, ...</td>\n",
       "      <td>74</td>\n",
       "      <td>1</td>\n",
       "      <td>Twitter Web Client</td>\n",
       "    </tr>\n",
       "  </tbody>\n",
       "</table>\n",
       "<p>200 rows × 6 columns</p>\n",
       "</div>"
      ],
      "text/plain": [
       "                      id          created_at  \\\n",
       "196   973781600751308800 2018-03-14 04:43:20   \n",
       "173  1006204761543081984 2018-06-11 16:01:24   \n",
       "34   1144668413140144128 2019-06-28 18:06:31   \n",
       "144  1045399898537873408 2018-09-27 19:48:53   \n",
       "77   1101150955389706243 2019-02-28 16:03:40   \n",
       "..                   ...                 ...   \n",
       "17   1207755422603464704 2019-12-19 20:11:46   \n",
       "188   988455729194389504 2018-04-23 16:33:05   \n",
       "57   1113501712457793536 2019-04-03 18:01:10   \n",
       "85   1098273815690268672 2019-02-20 17:30:57   \n",
       "54   1114316960341172225 2019-04-06 00:00:41   \n",
       "\n",
       "                                                  text  favorite_count  \\\n",
       "196  Stephen Hawking once said, \"I'm not afraid of ...           14966   \n",
       "173  AI+ethics is important, but has been partly hi...            6364   \n",
       "34   I’m glad DeepNude is dead. As a person and as ...            8035   \n",
       "144  Deep Learning is getting really good on Big Da...            5052   \n",
       "77   AI For Everyone is now available on @Coursera!...            4243   \n",
       "..                                                 ...             ...   \n",
       "17   The community has grown so much that we no lon...             121   \n",
       "188  @amritrp @CadeMetz Difference between AI vs. e...              16   \n",
       "57   @ruskin147 @BBCTechTent Great to see you and t...              13   \n",
       "85   @kchonyc @honglaklee Thank you Kyunghyun! No n...              54   \n",
       "54   @KelvinPaschal @goodfellow_ian @tim_cook Yes, ...              74   \n",
       "\n",
       "     retweeted_count              source  \n",
       "196             4279  Twitter Web Client  \n",
       "173             2391  Twitter Web Client  \n",
       "34              1934  Twitter Web Client  \n",
       "144             1442  Twitter Web Client  \n",
       "77              1409  Twitter Web Client  \n",
       "..               ...                 ...  \n",
       "17                 3     Twitter Web App  \n",
       "188                2  Twitter Web Client  \n",
       "57                 2  Twitter for iPhone  \n",
       "85                 1  Twitter Web Client  \n",
       "54                 1  Twitter Web Client  \n",
       "\n",
       "[200 rows x 6 columns]"
      ]
     },
     "execution_count": 43,
     "metadata": {},
     "output_type": "execute_result"
    }
   ],
   "source": [
    "df.sort_values('retweeted_count', ascending= False)"
   ]
  },
  {
   "cell_type": "code",
   "execution_count": 41,
   "metadata": {
    "scrolled": true
   },
   "outputs": [
    {
     "data": {
      "text/html": [
       "<div>\n",
       "<style scoped>\n",
       "    .dataframe tbody tr th:only-of-type {\n",
       "        vertical-align: middle;\n",
       "    }\n",
       "\n",
       "    .dataframe tbody tr th {\n",
       "        vertical-align: top;\n",
       "    }\n",
       "\n",
       "    .dataframe thead th {\n",
       "        text-align: right;\n",
       "    }\n",
       "</style>\n",
       "<table border=\"1\" class=\"dataframe\">\n",
       "  <thead>\n",
       "    <tr style=\"text-align: right;\">\n",
       "      <th></th>\n",
       "      <th>text</th>\n",
       "      <th>favorite_count</th>\n",
       "    </tr>\n",
       "  </thead>\n",
       "  <tbody>\n",
       "    <tr>\n",
       "      <th>71</th>\n",
       "      <td>The suspension of the H1B visa program is bad ...</td>\n",
       "      <td>19601</td>\n",
       "    </tr>\n",
       "    <tr>\n",
       "      <th>59</th>\n",
       "      <td>More companies should tell employees it's fine...</td>\n",
       "      <td>14314</td>\n",
       "    </tr>\n",
       "    <tr>\n",
       "      <th>184</th>\n",
       "      <td>Announcing Nova Ng, our first daughter. Plus, ...</td>\n",
       "      <td>9277</td>\n",
       "    </tr>\n",
       "  </tbody>\n",
       "</table>\n",
       "</div>"
      ],
      "text/plain": [
       "                                                  text  favorite_count\n",
       "71   The suspension of the H1B visa program is bad ...           19601\n",
       "59   More companies should tell employees it's fine...           14314\n",
       "184  Announcing Nova Ng, our first daughter. Plus, ...            9277"
      ]
     },
     "execution_count": 41,
     "metadata": {},
     "output_type": "execute_result"
    }
   ],
   "source": [
    "df.sort_values('favorite_count', ascending= False)[['text', 'favorite_count']].iloc[0:3]"
   ]
  },
  {
   "cell_type": "code",
   "execution_count": 42,
   "metadata": {
    "scrolled": true
   },
   "outputs": [
    {
     "data": {
      "text/plain": [
       "'The suspension of the H1B visa program is bad for the US, bad for innovation, and will shatter dreams and disrupt l… https://t.co/DhS6cMUO62'"
      ]
     },
     "execution_count": 42,
     "metadata": {},
     "output_type": "execute_result"
    }
   ],
   "source": [
    "df.sort_values('favorite_count', ascending= False)['text'].iloc[0]"
   ]
  },
  {
   "cell_type": "markdown",
   "metadata": {},
   "source": [
    "# Distribution of Retweet & Favorite Counts"
   ]
  },
  {
   "cell_type": "code",
   "execution_count": 43,
   "metadata": {},
   "outputs": [
    {
     "data": {
      "text/html": [
       "<div>\n",
       "<style scoped>\n",
       "    .dataframe tbody tr th:only-of-type {\n",
       "        vertical-align: middle;\n",
       "    }\n",
       "\n",
       "    .dataframe tbody tr th {\n",
       "        vertical-align: top;\n",
       "    }\n",
       "\n",
       "    .dataframe thead th {\n",
       "        text-align: right;\n",
       "    }\n",
       "</style>\n",
       "<table border=\"1\" class=\"dataframe\">\n",
       "  <thead>\n",
       "    <tr style=\"text-align: right;\">\n",
       "      <th></th>\n",
       "      <th>id</th>\n",
       "      <th>created_at</th>\n",
       "      <th>text</th>\n",
       "      <th>favorite_count</th>\n",
       "      <th>retweeted_count</th>\n",
       "      <th>source</th>\n",
       "    </tr>\n",
       "  </thead>\n",
       "  <tbody>\n",
       "    <tr>\n",
       "      <th>0</th>\n",
       "      <td>1379606096738836481</td>\n",
       "      <td>2021-04-07 01:24:59</td>\n",
       "      <td>Nice writeup by @Analyticsindiam on why I thin...</td>\n",
       "      <td>1152</td>\n",
       "      <td>240</td>\n",
       "      <td>Twitter Web App</td>\n",
       "    </tr>\n",
       "    <tr>\n",
       "      <th>1</th>\n",
       "      <td>1377347469021900802</td>\n",
       "      <td>2021-03-31 19:50:01</td>\n",
       "      <td>RT @NYSE: .@Coursera (NYSE: $COUR) virtually r...</td>\n",
       "      <td>0</td>\n",
       "      <td>143</td>\n",
       "      <td>Twitter Web App</td>\n",
       "    </tr>\n",
       "    <tr>\n",
       "      <th>2</th>\n",
       "      <td>1377295625742475265</td>\n",
       "      <td>2021-03-31 16:24:00</td>\n",
       "      <td>When I think about what we can do to build a b...</td>\n",
       "      <td>5353</td>\n",
       "      <td>620</td>\n",
       "      <td>Twitter Web App</td>\n",
       "    </tr>\n",
       "    <tr>\n",
       "      <th>3</th>\n",
       "      <td>1374850170995675136</td>\n",
       "      <td>2021-03-24 22:26:38</td>\n",
       "      <td>@lmthang Thank you @lmthang!</td>\n",
       "      <td>12</td>\n",
       "      <td>1</td>\n",
       "      <td>Twitter Web App</td>\n",
       "    </tr>\n",
       "    <tr>\n",
       "      <th>4</th>\n",
       "      <td>1373729845180473344</td>\n",
       "      <td>2021-03-21 20:14:52</td>\n",
       "      <td>To everyone speaking privately or publicly to ...</td>\n",
       "      <td>4680</td>\n",
       "      <td>401</td>\n",
       "      <td>Twitter Web App</td>\n",
       "    </tr>\n",
       "  </tbody>\n",
       "</table>\n",
       "</div>"
      ],
      "text/plain": [
       "                    id          created_at  \\\n",
       "0  1379606096738836481 2021-04-07 01:24:59   \n",
       "1  1377347469021900802 2021-03-31 19:50:01   \n",
       "2  1377295625742475265 2021-03-31 16:24:00   \n",
       "3  1374850170995675136 2021-03-24 22:26:38   \n",
       "4  1373729845180473344 2021-03-21 20:14:52   \n",
       "\n",
       "                                                text  favorite_count  \\\n",
       "0  Nice writeup by @Analyticsindiam on why I thin...            1152   \n",
       "1  RT @NYSE: .@Coursera (NYSE: $COUR) virtually r...               0   \n",
       "2  When I think about what we can do to build a b...            5353   \n",
       "3                       @lmthang Thank you @lmthang!              12   \n",
       "4  To everyone speaking privately or publicly to ...            4680   \n",
       "\n",
       "   retweeted_count           source  \n",
       "0              240  Twitter Web App  \n",
       "1              143  Twitter Web App  \n",
       "2              620  Twitter Web App  \n",
       "3                1  Twitter Web App  \n",
       "4              401  Twitter Web App  "
      ]
     },
     "execution_count": 43,
     "metadata": {},
     "output_type": "execute_result"
    }
   ],
   "source": [
    "df.head()"
   ]
  },
  {
   "cell_type": "code",
   "execution_count": 44,
   "metadata": {},
   "outputs": [],
   "source": [
    "%config InlineBacend.figure_format = 'retina'\n",
    "import seaborn as sns\n",
    "import matplotlib.pyplot as plt"
   ]
  },
  {
   "cell_type": "code",
   "execution_count": 46,
   "metadata": {},
   "outputs": [
    {
     "data": {
      "text/plain": [
       "(-100.0, 15000.0)"
      ]
     },
     "execution_count": 46,
     "metadata": {},
     "output_type": "execute_result"
    },
    {
     "data": {
      "image/png": "[encoded data removed]",
      "text/plain": [
       "<Figure size 432x288 with 1 Axes>"
      ]
     },
     "metadata": {
      "needs_background": "light"
     },
     "output_type": "display_data"
    }
   ],
   "source": [
    "sns.distplot(df.favorite_count, kde=False ,color='brown')\n",
    "plt.xlim(-100,15000)"
   ]
  },
  {
   "cell_type": "code",
   "execution_count": 47,
   "metadata": {},
   "outputs": [
    {
     "data": {
      "text/plain": [
       "(-100.0, 5000.0)"
      ]
     },
     "execution_count": 47,
     "metadata": {},
     "output_type": "execute_result"
    },
    {
     "data": {
      "image/png": "[encoded data removed]",
      "text/plain": [
       "<Figure size 720x432 with 1 Axes>"
      ]
     },
     "metadata": {
      "needs_background": "light"
     },
     "output_type": "display_data"
    }
   ],
   "source": [
    "plt.figure(figsize=(10,6))\n",
    "sns.distplot(df.retweeted_count, color='black')\n",
    "plt.xlim(-100,5000)"
   ]
  },
  {
   "cell_type": "code",
   "execution_count": 48,
   "metadata": {},
   "outputs": [
    {
     "data": {
      "text/plain": [
       "1315.155"
      ]
     },
     "execution_count": 48,
     "metadata": {},
     "output_type": "execute_result"
    }
   ],
   "source": [
    "df['favorite_count'].mean()"
   ]
  },
  {
   "cell_type": "code",
   "execution_count": 49,
   "metadata": {},
   "outputs": [
    {
     "data": {
      "text/plain": [
       "2171.9736019604543"
      ]
     },
     "execution_count": 49,
     "metadata": {},
     "output_type": "execute_result"
    }
   ],
   "source": [
    "df['favorite_count'].std()"
   ]
  },
  {
   "cell_type": "markdown",
   "metadata": {},
   "source": [
    "## Distribution of Tweet-Hour  "
   ]
  },
  {
   "cell_type": "code",
   "execution_count": 57,
   "metadata": {
    "run_control": {
     "marked": true
    }
   },
   "outputs": [
    {
     "data": {
      "text/html": [
       "<div>\n",
       "<style scoped>\n",
       "    .dataframe tbody tr th:only-of-type {\n",
       "        vertical-align: middle;\n",
       "    }\n",
       "\n",
       "    .dataframe tbody tr th {\n",
       "        vertical-align: top;\n",
       "    }\n",
       "\n",
       "    .dataframe thead th {\n",
       "        text-align: right;\n",
       "    }\n",
       "</style>\n",
       "<table border=\"1\" class=\"dataframe\">\n",
       "  <thead>\n",
       "    <tr style=\"text-align: right;\">\n",
       "      <th></th>\n",
       "      <th>id</th>\n",
       "      <th>created_at</th>\n",
       "      <th>text</th>\n",
       "      <th>favorite_count</th>\n",
       "      <th>retweeted_count</th>\n",
       "      <th>source</th>\n",
       "      <th>tweet_hour</th>\n",
       "    </tr>\n",
       "  </thead>\n",
       "  <tbody>\n",
       "    <tr>\n",
       "      <th>0</th>\n",
       "      <td>1379606096738836481</td>\n",
       "      <td>2021-04-07 01:24:59</td>\n",
       "      <td>Nice writeup by @Analyticsindiam on why I thin...</td>\n",
       "      <td>1152</td>\n",
       "      <td>240</td>\n",
       "      <td>Twitter Web App</td>\n",
       "      <td>1</td>\n",
       "    </tr>\n",
       "    <tr>\n",
       "      <th>1</th>\n",
       "      <td>1377347469021900802</td>\n",
       "      <td>2021-03-31 19:50:01</td>\n",
       "      <td>RT @NYSE: .@Coursera (NYSE: $COUR) virtually r...</td>\n",
       "      <td>0</td>\n",
       "      <td>143</td>\n",
       "      <td>Twitter Web App</td>\n",
       "      <td>19</td>\n",
       "    </tr>\n",
       "    <tr>\n",
       "      <th>2</th>\n",
       "      <td>1377295625742475265</td>\n",
       "      <td>2021-03-31 16:24:00</td>\n",
       "      <td>When I think about what we can do to build a b...</td>\n",
       "      <td>5353</td>\n",
       "      <td>620</td>\n",
       "      <td>Twitter Web App</td>\n",
       "      <td>16</td>\n",
       "    </tr>\n",
       "    <tr>\n",
       "      <th>3</th>\n",
       "      <td>1374850170995675136</td>\n",
       "      <td>2021-03-24 22:26:38</td>\n",
       "      <td>@lmthang Thank you @lmthang!</td>\n",
       "      <td>12</td>\n",
       "      <td>1</td>\n",
       "      <td>Twitter Web App</td>\n",
       "      <td>22</td>\n",
       "    </tr>\n",
       "    <tr>\n",
       "      <th>4</th>\n",
       "      <td>1373729845180473344</td>\n",
       "      <td>2021-03-21 20:14:52</td>\n",
       "      <td>To everyone speaking privately or publicly to ...</td>\n",
       "      <td>4680</td>\n",
       "      <td>401</td>\n",
       "      <td>Twitter Web App</td>\n",
       "      <td>20</td>\n",
       "    </tr>\n",
       "  </tbody>\n",
       "</table>\n",
       "</div>"
      ],
      "text/plain": [
       "                    id          created_at  \\\n",
       "0  1379606096738836481 2021-04-07 01:24:59   \n",
       "1  1377347469021900802 2021-03-31 19:50:01   \n",
       "2  1377295625742475265 2021-03-31 16:24:00   \n",
       "3  1374850170995675136 2021-03-24 22:26:38   \n",
       "4  1373729845180473344 2021-03-21 20:14:52   \n",
       "\n",
       "                                                text  favorite_count  \\\n",
       "0  Nice writeup by @Analyticsindiam on why I thin...            1152   \n",
       "1  RT @NYSE: .@Coursera (NYSE: $COUR) virtually r...               0   \n",
       "2  When I think about what we can do to build a b...            5353   \n",
       "3                       @lmthang Thank you @lmthang!              12   \n",
       "4  To everyone speaking privately or publicly to ...            4680   \n",
       "\n",
       "   retweeted_count           source  tweet_hour  \n",
       "0              240  Twitter Web App           1  \n",
       "1              143  Twitter Web App          19  \n",
       "2              620  Twitter Web App          16  \n",
       "3                1  Twitter Web App          22  \n",
       "4              401  Twitter Web App          20  "
      ]
     },
     "execution_count": 57,
     "metadata": {},
     "output_type": "execute_result"
    }
   ],
   "source": [
    "df.head()"
   ]
  },
  {
   "cell_type": "code",
   "execution_count": 58,
   "metadata": {
    "run_control": {
     "marked": true
    }
   },
   "outputs": [],
   "source": [
    "df['tweet_hour'] = df['created_at'].apply(lambda x: x.strftime('%H'))"
   ]
  },
  {
   "cell_type": "code",
   "execution_count": 59,
   "metadata": {},
   "outputs": [
    {
     "data": {
      "text/html": [
       "<div>\n",
       "<style scoped>\n",
       "    .dataframe tbody tr th:only-of-type {\n",
       "        vertical-align: middle;\n",
       "    }\n",
       "\n",
       "    .dataframe tbody tr th {\n",
       "        vertical-align: top;\n",
       "    }\n",
       "\n",
       "    .dataframe thead th {\n",
       "        text-align: right;\n",
       "    }\n",
       "</style>\n",
       "<table border=\"1\" class=\"dataframe\">\n",
       "  <thead>\n",
       "    <tr style=\"text-align: right;\">\n",
       "      <th></th>\n",
       "      <th>id</th>\n",
       "      <th>created_at</th>\n",
       "      <th>text</th>\n",
       "      <th>favorite_count</th>\n",
       "      <th>retweeted_count</th>\n",
       "      <th>source</th>\n",
       "      <th>tweet_hour</th>\n",
       "    </tr>\n",
       "  </thead>\n",
       "  <tbody>\n",
       "    <tr>\n",
       "      <th>0</th>\n",
       "      <td>1379606096738836481</td>\n",
       "      <td>2021-04-07 01:24:59</td>\n",
       "      <td>Nice writeup by @Analyticsindiam on why I thin...</td>\n",
       "      <td>1152</td>\n",
       "      <td>240</td>\n",
       "      <td>Twitter Web App</td>\n",
       "      <td>01</td>\n",
       "    </tr>\n",
       "    <tr>\n",
       "      <th>1</th>\n",
       "      <td>1377347469021900802</td>\n",
       "      <td>2021-03-31 19:50:01</td>\n",
       "      <td>RT @NYSE: .@Coursera (NYSE: $COUR) virtually r...</td>\n",
       "      <td>0</td>\n",
       "      <td>143</td>\n",
       "      <td>Twitter Web App</td>\n",
       "      <td>19</td>\n",
       "    </tr>\n",
       "    <tr>\n",
       "      <th>2</th>\n",
       "      <td>1377295625742475265</td>\n",
       "      <td>2021-03-31 16:24:00</td>\n",
       "      <td>When I think about what we can do to build a b...</td>\n",
       "      <td>5353</td>\n",
       "      <td>620</td>\n",
       "      <td>Twitter Web App</td>\n",
       "      <td>16</td>\n",
       "    </tr>\n",
       "    <tr>\n",
       "      <th>3</th>\n",
       "      <td>1374850170995675136</td>\n",
       "      <td>2021-03-24 22:26:38</td>\n",
       "      <td>@lmthang Thank you @lmthang!</td>\n",
       "      <td>12</td>\n",
       "      <td>1</td>\n",
       "      <td>Twitter Web App</td>\n",
       "      <td>22</td>\n",
       "    </tr>\n",
       "    <tr>\n",
       "      <th>4</th>\n",
       "      <td>1373729845180473344</td>\n",
       "      <td>2021-03-21 20:14:52</td>\n",
       "      <td>To everyone speaking privately or publicly to ...</td>\n",
       "      <td>4680</td>\n",
       "      <td>401</td>\n",
       "      <td>Twitter Web App</td>\n",
       "      <td>20</td>\n",
       "    </tr>\n",
       "  </tbody>\n",
       "</table>\n",
       "</div>"
      ],
      "text/plain": [
       "                    id          created_at  \\\n",
       "0  1379606096738836481 2021-04-07 01:24:59   \n",
       "1  1377347469021900802 2021-03-31 19:50:01   \n",
       "2  1377295625742475265 2021-03-31 16:24:00   \n",
       "3  1374850170995675136 2021-03-24 22:26:38   \n",
       "4  1373729845180473344 2021-03-21 20:14:52   \n",
       "\n",
       "                                                text  favorite_count  \\\n",
       "0  Nice writeup by @Analyticsindiam on why I thin...            1152   \n",
       "1  RT @NYSE: .@Coursera (NYSE: $COUR) virtually r...               0   \n",
       "2  When I think about what we can do to build a b...            5353   \n",
       "3                       @lmthang Thank you @lmthang!              12   \n",
       "4  To everyone speaking privately or publicly to ...            4680   \n",
       "\n",
       "   retweeted_count           source tweet_hour  \n",
       "0              240  Twitter Web App         01  \n",
       "1              143  Twitter Web App         19  \n",
       "2              620  Twitter Web App         16  \n",
       "3                1  Twitter Web App         22  \n",
       "4              401  Twitter Web App         20  "
      ]
     },
     "execution_count": 59,
     "metadata": {},
     "output_type": "execute_result"
    }
   ],
   "source": [
    "df.head()"
   ]
  },
  {
   "cell_type": "code",
   "execution_count": 60,
   "metadata": {
    "run_control": {
     "marked": true
    }
   },
   "outputs": [],
   "source": [
    "df['tweet_hour'] = pd.to_numeric(df['tweet_hour'])"
   ]
  },
  {
   "cell_type": "code",
   "execution_count": 61,
   "metadata": {},
   "outputs": [
    {
     "name": "stdout",
     "output_type": "stream",
     "text": [
      "<class 'pandas.core.frame.DataFrame'>\n",
      "RangeIndex: 200 entries, 0 to 199\n",
      "Data columns (total 7 columns):\n",
      " #   Column           Non-Null Count  Dtype         \n",
      "---  ------           --------------  -----         \n",
      " 0   id               200 non-null    int64         \n",
      " 1   created_at       200 non-null    datetime64[ns]\n",
      " 2   text             200 non-null    object        \n",
      " 3   favorite_count   200 non-null    int64         \n",
      " 4   retweeted_count  200 non-null    int64         \n",
      " 5   source           200 non-null    object        \n",
      " 6   tweet_hour       200 non-null    int64         \n",
      "dtypes: datetime64[ns](1), int64(4), object(2)\n",
      "memory usage: 11.1+ KB\n"
     ]
    }
   ],
   "source": [
    "df.info()"
   ]
  },
  {
   "cell_type": "code",
   "execution_count": 62,
   "metadata": {
    "run_control": {
     "marked": true
    }
   },
   "outputs": [
    {
     "data": {
      "text/plain": [
       "<AxesSubplot:xlabel='tweet_hour', ylabel='Density'>"
      ]
     },
     "execution_count": 62,
     "metadata": {},
     "output_type": "execute_result"
    },
    {
     "data": {
      "image/png": "[encoded data removed]",
      "text/plain": [
       "<Figure size 720x432 with 1 Axes>"
      ]
     },
     "metadata": {
      "needs_background": "light"
     },
     "output_type": "display_data"
    }
   ],
   "source": [
    "plt.figure(figsize=(10,6))\n",
    "sns.distplot(df['tweet_hour'], kde=True, color='black')"
   ]
  },
  {
   "cell_type": "code",
   "execution_count": 64,
   "metadata": {
    "run_control": {
     "marked": true
    }
   },
   "outputs": [],
   "source": [
    "df['days'] = df['created_at']"
   ]
  },
  {
   "cell_type": "code",
   "execution_count": 65,
   "metadata": {},
   "outputs": [
    {
     "data": {
      "text/html": [
       "<div>\n",
       "<style scoped>\n",
       "    .dataframe tbody tr th:only-of-type {\n",
       "        vertical-align: middle;\n",
       "    }\n",
       "\n",
       "    .dataframe tbody tr th {\n",
       "        vertical-align: top;\n",
       "    }\n",
       "\n",
       "    .dataframe thead th {\n",
       "        text-align: right;\n",
       "    }\n",
       "</style>\n",
       "<table border=\"1\" class=\"dataframe\">\n",
       "  <thead>\n",
       "    <tr style=\"text-align: right;\">\n",
       "      <th></th>\n",
       "      <th>id</th>\n",
       "      <th>created_at</th>\n",
       "      <th>text</th>\n",
       "      <th>favorite_count</th>\n",
       "      <th>retweeted_count</th>\n",
       "      <th>source</th>\n",
       "      <th>tweet_hour</th>\n",
       "      <th>days</th>\n",
       "    </tr>\n",
       "  </thead>\n",
       "  <tbody>\n",
       "    <tr>\n",
       "      <th>0</th>\n",
       "      <td>1379606096738836481</td>\n",
       "      <td>2021-04-07 01:24:59</td>\n",
       "      <td>Nice writeup by @Analyticsindiam on why I thin...</td>\n",
       "      <td>1152</td>\n",
       "      <td>240</td>\n",
       "      <td>Twitter Web App</td>\n",
       "      <td>1</td>\n",
       "      <td>2021-04-07 01:24:59</td>\n",
       "    </tr>\n",
       "    <tr>\n",
       "      <th>1</th>\n",
       "      <td>1377347469021900802</td>\n",
       "      <td>2021-03-31 19:50:01</td>\n",
       "      <td>RT @NYSE: .@Coursera (NYSE: $COUR) virtually r...</td>\n",
       "      <td>0</td>\n",
       "      <td>143</td>\n",
       "      <td>Twitter Web App</td>\n",
       "      <td>19</td>\n",
       "      <td>2021-03-31 19:50:01</td>\n",
       "    </tr>\n",
       "    <tr>\n",
       "      <th>2</th>\n",
       "      <td>1377295625742475265</td>\n",
       "      <td>2021-03-31 16:24:00</td>\n",
       "      <td>When I think about what we can do to build a b...</td>\n",
       "      <td>5353</td>\n",
       "      <td>620</td>\n",
       "      <td>Twitter Web App</td>\n",
       "      <td>16</td>\n",
       "      <td>2021-03-31 16:24:00</td>\n",
       "    </tr>\n",
       "    <tr>\n",
       "      <th>3</th>\n",
       "      <td>1374850170995675136</td>\n",
       "      <td>2021-03-24 22:26:38</td>\n",
       "      <td>@lmthang Thank you @lmthang!</td>\n",
       "      <td>12</td>\n",
       "      <td>1</td>\n",
       "      <td>Twitter Web App</td>\n",
       "      <td>22</td>\n",
       "      <td>2021-03-24 22:26:38</td>\n",
       "    </tr>\n",
       "    <tr>\n",
       "      <th>4</th>\n",
       "      <td>1373729845180473344</td>\n",
       "      <td>2021-03-21 20:14:52</td>\n",
       "      <td>To everyone speaking privately or publicly to ...</td>\n",
       "      <td>4680</td>\n",
       "      <td>401</td>\n",
       "      <td>Twitter Web App</td>\n",
       "      <td>20</td>\n",
       "      <td>2021-03-21 20:14:52</td>\n",
       "    </tr>\n",
       "  </tbody>\n",
       "</table>\n",
       "</div>"
      ],
      "text/plain": [
       "                    id          created_at  \\\n",
       "0  1379606096738836481 2021-04-07 01:24:59   \n",
       "1  1377347469021900802 2021-03-31 19:50:01   \n",
       "2  1377295625742475265 2021-03-31 16:24:00   \n",
       "3  1374850170995675136 2021-03-24 22:26:38   \n",
       "4  1373729845180473344 2021-03-21 20:14:52   \n",
       "\n",
       "                                                text  favorite_count  \\\n",
       "0  Nice writeup by @Analyticsindiam on why I thin...            1152   \n",
       "1  RT @NYSE: .@Coursera (NYSE: $COUR) virtually r...               0   \n",
       "2  When I think about what we can do to build a b...            5353   \n",
       "3                       @lmthang Thank you @lmthang!              12   \n",
       "4  To everyone speaking privately or publicly to ...            4680   \n",
       "\n",
       "   retweeted_count           source  tweet_hour                days  \n",
       "0              240  Twitter Web App           1 2021-04-07 01:24:59  \n",
       "1              143  Twitter Web App          19 2021-03-31 19:50:01  \n",
       "2              620  Twitter Web App          16 2021-03-31 16:24:00  \n",
       "3                1  Twitter Web App          22 2021-03-24 22:26:38  \n",
       "4              401  Twitter Web App          20 2021-03-21 20:14:52  "
      ]
     },
     "execution_count": 65,
     "metadata": {},
     "output_type": "execute_result"
    }
   ],
   "source": [
    "df.head()"
   ]
  },
  {
   "cell_type": "code",
   "execution_count": 60,
   "metadata": {
    "run_control": {
     "marked": false
    }
   },
   "outputs": [],
   "source": [
    "gun_freq = df.groupby('days').count()['id']"
   ]
  },
  {
   "cell_type": "code",
   "execution_count": 61,
   "metadata": {
    "run_control": {
     "marked": false
    }
   },
   "outputs": [
    {
     "data": {
      "text/plain": [
       "<matplotlib.axes._subplots.AxesSubplot at 0x7ffa6e4d9208>"
      ]
     },
     "execution_count": 61,
     "metadata": {},
     "output_type": "execute_result"
    },
    {
     "data": {
      "image/png": "[encoded data removed]",
      "text/plain": [
       "<Figure size 432x288 with 1 Axes>"
      ]
     },
     "metadata": {
      "needs_background": "light"
     },
     "output_type": "display_data"
    }
   ],
   "source": [
    "gun_freq.plot.bar(x='days', y='id')"
   ]
  },
  {
   "cell_type": "markdown",
   "metadata": {},
   "source": [
    "## Source of Tweets"
   ]
  },
  {
   "cell_type": "code",
   "execution_count": 62,
   "metadata": {
    "run_control": {
     "marked": true
    }
   },
   "outputs": [],
   "source": [
    "source_freq = df.groupby('source').count()['id']"
   ]
  },
  {
   "cell_type": "code",
   "execution_count": 63,
   "metadata": {
    "run_control": {
     "marked": true
    }
   },
   "outputs": [
    {
     "data": {
      "text/plain": [
       "<matplotlib.axes._subplots.AxesSubplot at 0x7ffa6e3f7e80>"
      ]
     },
     "execution_count": 63,
     "metadata": {},
     "output_type": "execute_result"
    },
    {
     "data": {
      "image/png": "[encoded data removed]",
      "text/plain": [
       "<Figure size 432x288 with 1 Axes>"
      ]
     },
     "metadata": {
      "needs_background": "light"
     },
     "output_type": "display_data"
    }
   ],
   "source": [
    "source_freq.plot.bar(x='source', y='id')"
   ]
  },
  {
   "cell_type": "code",
   "execution_count": 64,
   "metadata": {
    "run_control": {
     "marked": true
    }
   },
   "outputs": [
    {
     "data": {
      "text/plain": [
       "source\n",
       "Buffer                  6\n",
       "Twitter Web App        28\n",
       "Twitter Web Client    148\n",
       "Twitter for iPad        1\n",
       "Twitter for iPhone     17\n",
       "Name: id, dtype: int64"
      ]
     },
     "execution_count": 64,
     "metadata": {},
     "output_type": "execute_result"
    }
   ],
   "source": [
    "df.groupby('source').count()['id']"
   ]
  },
  {
   "cell_type": "code",
   "execution_count": 65,
   "metadata": {
    "run_control": {
     "marked": true
    },
    "scrolled": true
   },
   "outputs": [
    {
     "data": {
      "text/html": [
       "<div>\n",
       "<style scoped>\n",
       "    .dataframe tbody tr th:only-of-type {\n",
       "        vertical-align: middle;\n",
       "    }\n",
       "\n",
       "    .dataframe tbody tr th {\n",
       "        vertical-align: top;\n",
       "    }\n",
       "\n",
       "    .dataframe thead th {\n",
       "        text-align: right;\n",
       "    }\n",
       "</style>\n",
       "<table border=\"1\" class=\"dataframe\">\n",
       "  <thead>\n",
       "    <tr style=\"text-align: right;\">\n",
       "      <th></th>\n",
       "      <th></th>\n",
       "      <th></th>\n",
       "      <th>tweet_hour</th>\n",
       "    </tr>\n",
       "    <tr>\n",
       "      <th>source</th>\n",
       "      <th>tweet_hour</th>\n",
       "      <th>days</th>\n",
       "      <th></th>\n",
       "    </tr>\n",
       "  </thead>\n",
       "  <tbody>\n",
       "    <tr>\n",
       "      <td rowspan=\"5\" valign=\"top\">Buffer</td>\n",
       "      <td>15</td>\n",
       "      <td>Thursday</td>\n",
       "      <td>1</td>\n",
       "    </tr>\n",
       "    <tr>\n",
       "      <td>16</td>\n",
       "      <td>Monday</td>\n",
       "      <td>1</td>\n",
       "    </tr>\n",
       "    <tr>\n",
       "      <td rowspan=\"2\" valign=\"top\">17</td>\n",
       "      <td>Monday</td>\n",
       "      <td>1</td>\n",
       "    </tr>\n",
       "    <tr>\n",
       "      <td>Tuesday</td>\n",
       "      <td>1</td>\n",
       "    </tr>\n",
       "    <tr>\n",
       "      <td>20</td>\n",
       "      <td>Friday</td>\n",
       "      <td>1</td>\n",
       "    </tr>\n",
       "    <tr>\n",
       "      <td>...</td>\n",
       "      <td>...</td>\n",
       "      <td>...</td>\n",
       "      <td>...</td>\n",
       "    </tr>\n",
       "    <tr>\n",
       "      <td rowspan=\"5\" valign=\"top\">Twitter for iPhone</td>\n",
       "      <td>17</td>\n",
       "      <td>Wednesday</td>\n",
       "      <td>1</td>\n",
       "    </tr>\n",
       "    <tr>\n",
       "      <td>18</td>\n",
       "      <td>Wednesday</td>\n",
       "      <td>1</td>\n",
       "    </tr>\n",
       "    <tr>\n",
       "      <td>19</td>\n",
       "      <td>Thursday</td>\n",
       "      <td>1</td>\n",
       "    </tr>\n",
       "    <tr>\n",
       "      <td rowspan=\"2\" valign=\"top\">20</td>\n",
       "      <td>Sunday</td>\n",
       "      <td>1</td>\n",
       "    </tr>\n",
       "    <tr>\n",
       "      <td>Tuesday</td>\n",
       "      <td>2</td>\n",
       "    </tr>\n",
       "  </tbody>\n",
       "</table>\n",
       "<p>107 rows × 1 columns</p>\n",
       "</div>"
      ],
      "text/plain": [
       "                                         tweet_hour\n",
       "source             tweet_hour days                 \n",
       "Buffer             15         Thursday            1\n",
       "                   16         Monday              1\n",
       "                   17         Monday              1\n",
       "                              Tuesday             1\n",
       "                   20         Friday              1\n",
       "...                                             ...\n",
       "Twitter for iPhone 17         Wednesday           1\n",
       "                   18         Wednesday           1\n",
       "                   19         Thursday            1\n",
       "                   20         Sunday              1\n",
       "                              Tuesday             2\n",
       "\n",
       "[107 rows x 1 columns]"
      ]
     },
     "execution_count": 65,
     "metadata": {},
     "output_type": "execute_result"
    }
   ],
   "source": [
    "df.groupby(['source', 'tweet_hour','days'])[['tweet_hour']].count()"
   ]
  },
  {
   "cell_type": "markdown",
   "metadata": {},
   "source": [
    "## Followers and Friends Analysis"
   ]
  },
  {
   "cell_type": "code",
   "execution_count": 66,
   "metadata": {},
   "outputs": [],
   "source": [
    "user = api.get_user(id = 'AndrewYNg', count= 10000)"
   ]
  },
  {
   "cell_type": "code",
   "execution_count": 67,
   "metadata": {},
   "outputs": [],
   "source": [
    "friends = user.friends()\n",
    "followers = user.followers()"
   ]
  },
  {
   "cell_type": "code",
   "execution_count": 68,
   "metadata": {},
   "outputs": [],
   "source": [
    "def followers_df(follower):\n",
    "    idler = [i.id for i in follower]\n",
    "    df = pd.DataFrame(idler, columns=['id'])\n",
    "    \n",
    "    \n",
    "    df['created_at'] = [i.created_at for i in follower]\n",
    "    df['screen_name'] = [i.screen_name for i in follower]\n",
    "    df['location'] = [i.location for i in follower]\n",
    "    df['followers_count'] = [i.followers_count for i in follower]\n",
    "    df['statuses_count'] = [i.statuses_count for i in follower]\n",
    "    df['friends_count'] = [i.friends_count for i in follower]\n",
    "    df['favourites_count'] = [i.favourites_count for i in follower]\n",
    "    \n",
    "    return df"
   ]
  },
  {
   "cell_type": "code",
   "execution_count": 69,
   "metadata": {},
   "outputs": [],
   "source": [
    "df = followers_df(followers)"
   ]
  },
  {
   "cell_type": "code",
   "execution_count": 70,
   "metadata": {},
   "outputs": [
    {
     "data": {
      "text/html": [
       "<div>\n",
       "<style scoped>\n",
       "    .dataframe tbody tr th:only-of-type {\n",
       "        vertical-align: middle;\n",
       "    }\n",
       "\n",
       "    .dataframe tbody tr th {\n",
       "        vertical-align: top;\n",
       "    }\n",
       "\n",
       "    .dataframe thead th {\n",
       "        text-align: right;\n",
       "    }\n",
       "</style>\n",
       "<table border=\"1\" class=\"dataframe\">\n",
       "  <thead>\n",
       "    <tr style=\"text-align: right;\">\n",
       "      <th></th>\n",
       "      <th>id</th>\n",
       "      <th>created_at</th>\n",
       "      <th>screen_name</th>\n",
       "      <th>location</th>\n",
       "      <th>followers_count</th>\n",
       "      <th>statuses_count</th>\n",
       "      <th>friends_count</th>\n",
       "      <th>favourites_count</th>\n",
       "    </tr>\n",
       "  </thead>\n",
       "  <tbody>\n",
       "    <tr>\n",
       "      <td>0</td>\n",
       "      <td>944813202818215936</td>\n",
       "      <td>2017-12-24 06:13:16</td>\n",
       "      <td>ZhengZhongjes</td>\n",
       "      <td></td>\n",
       "      <td>2</td>\n",
       "      <td>0</td>\n",
       "      <td>10</td>\n",
       "      <td>0</td>\n",
       "    </tr>\n",
       "    <tr>\n",
       "      <td>1</td>\n",
       "      <td>1063735620</td>\n",
       "      <td>2013-01-05 19:02:04</td>\n",
       "      <td>nowedibles</td>\n",
       "      <td>Currently in Phoenix</td>\n",
       "      <td>143</td>\n",
       "      <td>1537</td>\n",
       "      <td>696</td>\n",
       "      <td>26312</td>\n",
       "    </tr>\n",
       "    <tr>\n",
       "      <td>2</td>\n",
       "      <td>42813709</td>\n",
       "      <td>2009-05-27 04:20:24</td>\n",
       "      <td>wrmntr</td>\n",
       "      <td>bangkok</td>\n",
       "      <td>65</td>\n",
       "      <td>25</td>\n",
       "      <td>15</td>\n",
       "      <td>5</td>\n",
       "    </tr>\n",
       "    <tr>\n",
       "      <td>3</td>\n",
       "      <td>2502971052</td>\n",
       "      <td>2014-05-18 01:18:16</td>\n",
       "      <td>BecDuane</td>\n",
       "      <td>New York City</td>\n",
       "      <td>52</td>\n",
       "      <td>45</td>\n",
       "      <td>186</td>\n",
       "      <td>22</td>\n",
       "    </tr>\n",
       "    <tr>\n",
       "      <td>4</td>\n",
       "      <td>1233272143669972992</td>\n",
       "      <td>2020-02-28 06:06:22</td>\n",
       "      <td>Geo50098532</td>\n",
       "      <td></td>\n",
       "      <td>0</td>\n",
       "      <td>0</td>\n",
       "      <td>32</td>\n",
       "      <td>1</td>\n",
       "    </tr>\n",
       "  </tbody>\n",
       "</table>\n",
       "</div>"
      ],
      "text/plain": [
       "                    id          created_at    screen_name  \\\n",
       "0   944813202818215936 2017-12-24 06:13:16  ZhengZhongjes   \n",
       "1           1063735620 2013-01-05 19:02:04     nowedibles   \n",
       "2             42813709 2009-05-27 04:20:24         wrmntr   \n",
       "3           2502971052 2014-05-18 01:18:16       BecDuane   \n",
       "4  1233272143669972992 2020-02-28 06:06:22    Geo50098532   \n",
       "\n",
       "               location  followers_count  statuses_count  friends_count  \\\n",
       "0                                      2               0             10   \n",
       "1  Currently in Phoenix              143            1537            696   \n",
       "2               bangkok               65              25             15   \n",
       "3         New York City               52              45            186   \n",
       "4                                      0               0             32   \n",
       "\n",
       "   favourites_count  \n",
       "0                 0  \n",
       "1             26312  \n",
       "2                 5  \n",
       "3                22  \n",
       "4                 1  "
      ]
     },
     "execution_count": 70,
     "metadata": {},
     "output_type": "execute_result"
    }
   ],
   "source": [
    "df.head()"
   ]
  },
  {
   "cell_type": "code",
   "execution_count": 71,
   "metadata": {},
   "outputs": [
    {
     "name": "stdout",
     "output_type": "stream",
     "text": [
      "<class 'pandas.core.frame.DataFrame'>\n",
      "RangeIndex: 20 entries, 0 to 19\n",
      "Data columns (total 8 columns):\n",
      "id                  20 non-null int64\n",
      "created_at          20 non-null datetime64[ns]\n",
      "screen_name         20 non-null object\n",
      "location            20 non-null object\n",
      "followers_count     20 non-null int64\n",
      "statuses_count      20 non-null int64\n",
      "friends_count       20 non-null int64\n",
      "favourites_count    20 non-null int64\n",
      "dtypes: datetime64[ns](1), int64(5), object(2)\n",
      "memory usage: 1.4+ KB\n"
     ]
    }
   ],
   "source": [
    "df.info()"
   ]
  },
  {
   "cell_type": "markdown",
   "metadata": {},
   "source": [
    "## Followers Segmentation"
   ]
  },
  {
   "cell_type": "code",
   "execution_count": 72,
   "metadata": {},
   "outputs": [],
   "source": [
    "df.index = df['screen_name']"
   ]
  },
  {
   "cell_type": "code",
   "execution_count": 73,
   "metadata": {},
   "outputs": [],
   "source": [
    "s_data = df[['followers_count', 'statuses_count']]"
   ]
  },
  {
   "cell_type": "code",
   "execution_count": 74,
   "metadata": {
    "scrolled": true
   },
   "outputs": [
    {
     "data": {
      "text/html": [
       "<div>\n",
       "<style scoped>\n",
       "    .dataframe tbody tr th:only-of-type {\n",
       "        vertical-align: middle;\n",
       "    }\n",
       "\n",
       "    .dataframe tbody tr th {\n",
       "        vertical-align: top;\n",
       "    }\n",
       "\n",
       "    .dataframe thead th {\n",
       "        text-align: right;\n",
       "    }\n",
       "</style>\n",
       "<table border=\"1\" class=\"dataframe\">\n",
       "  <thead>\n",
       "    <tr style=\"text-align: right;\">\n",
       "      <th></th>\n",
       "      <th>followers_count</th>\n",
       "      <th>statuses_count</th>\n",
       "    </tr>\n",
       "    <tr>\n",
       "      <th>screen_name</th>\n",
       "      <th></th>\n",
       "      <th></th>\n",
       "    </tr>\n",
       "  </thead>\n",
       "  <tbody>\n",
       "    <tr>\n",
       "      <td>ZhengZhongjes</td>\n",
       "      <td>2</td>\n",
       "      <td>0</td>\n",
       "    </tr>\n",
       "    <tr>\n",
       "      <td>nowedibles</td>\n",
       "      <td>143</td>\n",
       "      <td>1537</td>\n",
       "    </tr>\n",
       "    <tr>\n",
       "      <td>wrmntr</td>\n",
       "      <td>65</td>\n",
       "      <td>25</td>\n",
       "    </tr>\n",
       "    <tr>\n",
       "      <td>BecDuane</td>\n",
       "      <td>52</td>\n",
       "      <td>45</td>\n",
       "    </tr>\n",
       "    <tr>\n",
       "      <td>Geo50098532</td>\n",
       "      <td>0</td>\n",
       "      <td>0</td>\n",
       "    </tr>\n",
       "    <tr>\n",
       "      <td>PuneetMungali</td>\n",
       "      <td>3</td>\n",
       "      <td>1</td>\n",
       "    </tr>\n",
       "    <tr>\n",
       "      <td>TheHarshitGaur</td>\n",
       "      <td>48</td>\n",
       "      <td>102</td>\n",
       "    </tr>\n",
       "    <tr>\n",
       "      <td>AnttiHallavo</td>\n",
       "      <td>6</td>\n",
       "      <td>14</td>\n",
       "    </tr>\n",
       "    <tr>\n",
       "      <td>AshlarInnovati1</td>\n",
       "      <td>76</td>\n",
       "      <td>202</td>\n",
       "    </tr>\n",
       "    <tr>\n",
       "      <td>peterromero</td>\n",
       "      <td>65</td>\n",
       "      <td>8</td>\n",
       "    </tr>\n",
       "    <tr>\n",
       "      <td>liu_jingdong</td>\n",
       "      <td>0</td>\n",
       "      <td>0</td>\n",
       "    </tr>\n",
       "    <tr>\n",
       "      <td>blakkurrenr</td>\n",
       "      <td>133</td>\n",
       "      <td>48</td>\n",
       "    </tr>\n",
       "    <tr>\n",
       "      <td>AllisonLilie</td>\n",
       "      <td>39</td>\n",
       "      <td>14</td>\n",
       "    </tr>\n",
       "    <tr>\n",
       "      <td>rsmitawa</td>\n",
       "      <td>5</td>\n",
       "      <td>4</td>\n",
       "    </tr>\n",
       "    <tr>\n",
       "      <td>saimanojbera</td>\n",
       "      <td>23</td>\n",
       "      <td>6</td>\n",
       "    </tr>\n",
       "    <tr>\n",
       "      <td>TirathSBindra</td>\n",
       "      <td>1</td>\n",
       "      <td>2</td>\n",
       "    </tr>\n",
       "    <tr>\n",
       "      <td>koncle</td>\n",
       "      <td>2</td>\n",
       "      <td>10</td>\n",
       "    </tr>\n",
       "    <tr>\n",
       "      <td>07zhiping</td>\n",
       "      <td>0</td>\n",
       "      <td>2</td>\n",
       "    </tr>\n",
       "    <tr>\n",
       "      <td>anuj63</td>\n",
       "      <td>105</td>\n",
       "      <td>110</td>\n",
       "    </tr>\n",
       "    <tr>\n",
       "      <td>apbeaton</td>\n",
       "      <td>1138</td>\n",
       "      <td>23623</td>\n",
       "    </tr>\n",
       "  </tbody>\n",
       "</table>\n",
       "</div>"
      ],
      "text/plain": [
       "                 followers_count  statuses_count\n",
       "screen_name                                     \n",
       "ZhengZhongjes                  2               0\n",
       "nowedibles                   143            1537\n",
       "wrmntr                        65              25\n",
       "BecDuane                      52              45\n",
       "Geo50098532                    0               0\n",
       "PuneetMungali                  3               1\n",
       "TheHarshitGaur                48             102\n",
       "AnttiHallavo                   6              14\n",
       "AshlarInnovati1               76             202\n",
       "peterromero                   65               8\n",
       "liu_jingdong                   0               0\n",
       "blakkurrenr                  133              48\n",
       "AllisonLilie                  39              14\n",
       "rsmitawa                       5               4\n",
       "saimanojbera                  23               6\n",
       "TirathSBindra                  1               2\n",
       "koncle                         2              10\n",
       "07zhiping                      0               2\n",
       "anuj63                       105             110\n",
       "apbeaton                    1138           23623"
      ]
     },
     "execution_count": 74,
     "metadata": {},
     "output_type": "execute_result"
    }
   ],
   "source": [
    "s_data"
   ]
  },
  {
   "cell_type": "code",
   "execution_count": 75,
   "metadata": {},
   "outputs": [],
   "source": [
    "s_data['followers_count'] = s_data['followers_count'] +0.01"
   ]
  },
  {
   "cell_type": "code",
   "execution_count": 76,
   "metadata": {},
   "outputs": [],
   "source": [
    "s_data['statuses_count'] = s_data['statuses_count'] +0.01"
   ]
  },
  {
   "cell_type": "code",
   "execution_count": 77,
   "metadata": {
    "scrolled": true
   },
   "outputs": [
    {
     "data": {
      "text/html": [
       "<div>\n",
       "<style scoped>\n",
       "    .dataframe tbody tr th:only-of-type {\n",
       "        vertical-align: middle;\n",
       "    }\n",
       "\n",
       "    .dataframe tbody tr th {\n",
       "        vertical-align: top;\n",
       "    }\n",
       "\n",
       "    .dataframe thead th {\n",
       "        text-align: right;\n",
       "    }\n",
       "</style>\n",
       "<table border=\"1\" class=\"dataframe\">\n",
       "  <thead>\n",
       "    <tr style=\"text-align: right;\">\n",
       "      <th></th>\n",
       "      <th>followers_count</th>\n",
       "      <th>statuses_count</th>\n",
       "    </tr>\n",
       "    <tr>\n",
       "      <th>screen_name</th>\n",
       "      <th></th>\n",
       "      <th></th>\n",
       "    </tr>\n",
       "  </thead>\n",
       "  <tbody>\n",
       "    <tr>\n",
       "      <td>ZhengZhongjes</td>\n",
       "      <td>2.01</td>\n",
       "      <td>0.01</td>\n",
       "    </tr>\n",
       "    <tr>\n",
       "      <td>nowedibles</td>\n",
       "      <td>143.01</td>\n",
       "      <td>1537.01</td>\n",
       "    </tr>\n",
       "    <tr>\n",
       "      <td>wrmntr</td>\n",
       "      <td>65.01</td>\n",
       "      <td>25.01</td>\n",
       "    </tr>\n",
       "    <tr>\n",
       "      <td>BecDuane</td>\n",
       "      <td>52.01</td>\n",
       "      <td>45.01</td>\n",
       "    </tr>\n",
       "    <tr>\n",
       "      <td>Geo50098532</td>\n",
       "      <td>0.01</td>\n",
       "      <td>0.01</td>\n",
       "    </tr>\n",
       "    <tr>\n",
       "      <td>PuneetMungali</td>\n",
       "      <td>3.01</td>\n",
       "      <td>1.01</td>\n",
       "    </tr>\n",
       "    <tr>\n",
       "      <td>TheHarshitGaur</td>\n",
       "      <td>48.01</td>\n",
       "      <td>102.01</td>\n",
       "    </tr>\n",
       "    <tr>\n",
       "      <td>AnttiHallavo</td>\n",
       "      <td>6.01</td>\n",
       "      <td>14.01</td>\n",
       "    </tr>\n",
       "    <tr>\n",
       "      <td>AshlarInnovati1</td>\n",
       "      <td>76.01</td>\n",
       "      <td>202.01</td>\n",
       "    </tr>\n",
       "    <tr>\n",
       "      <td>peterromero</td>\n",
       "      <td>65.01</td>\n",
       "      <td>8.01</td>\n",
       "    </tr>\n",
       "    <tr>\n",
       "      <td>liu_jingdong</td>\n",
       "      <td>0.01</td>\n",
       "      <td>0.01</td>\n",
       "    </tr>\n",
       "    <tr>\n",
       "      <td>blakkurrenr</td>\n",
       "      <td>133.01</td>\n",
       "      <td>48.01</td>\n",
       "    </tr>\n",
       "    <tr>\n",
       "      <td>AllisonLilie</td>\n",
       "      <td>39.01</td>\n",
       "      <td>14.01</td>\n",
       "    </tr>\n",
       "    <tr>\n",
       "      <td>rsmitawa</td>\n",
       "      <td>5.01</td>\n",
       "      <td>4.01</td>\n",
       "    </tr>\n",
       "    <tr>\n",
       "      <td>saimanojbera</td>\n",
       "      <td>23.01</td>\n",
       "      <td>6.01</td>\n",
       "    </tr>\n",
       "    <tr>\n",
       "      <td>TirathSBindra</td>\n",
       "      <td>1.01</td>\n",
       "      <td>2.01</td>\n",
       "    </tr>\n",
       "    <tr>\n",
       "      <td>koncle</td>\n",
       "      <td>2.01</td>\n",
       "      <td>10.01</td>\n",
       "    </tr>\n",
       "    <tr>\n",
       "      <td>07zhiping</td>\n",
       "      <td>0.01</td>\n",
       "      <td>2.01</td>\n",
       "    </tr>\n",
       "    <tr>\n",
       "      <td>anuj63</td>\n",
       "      <td>105.01</td>\n",
       "      <td>110.01</td>\n",
       "    </tr>\n",
       "    <tr>\n",
       "      <td>apbeaton</td>\n",
       "      <td>1138.01</td>\n",
       "      <td>23623.01</td>\n",
       "    </tr>\n",
       "  </tbody>\n",
       "</table>\n",
       "</div>"
      ],
      "text/plain": [
       "                 followers_count  statuses_count\n",
       "screen_name                                     \n",
       "ZhengZhongjes               2.01            0.01\n",
       "nowedibles                143.01         1537.01\n",
       "wrmntr                     65.01           25.01\n",
       "BecDuane                   52.01           45.01\n",
       "Geo50098532                 0.01            0.01\n",
       "PuneetMungali               3.01            1.01\n",
       "TheHarshitGaur             48.01          102.01\n",
       "AnttiHallavo                6.01           14.01\n",
       "AshlarInnovati1            76.01          202.01\n",
       "peterromero                65.01            8.01\n",
       "liu_jingdong                0.01            0.01\n",
       "blakkurrenr               133.01           48.01\n",
       "AllisonLilie               39.01           14.01\n",
       "rsmitawa                    5.01            4.01\n",
       "saimanojbera               23.01            6.01\n",
       "TirathSBindra               1.01            2.01\n",
       "koncle                      2.01           10.01\n",
       "07zhiping                   0.01            2.01\n",
       "anuj63                    105.01          110.01\n",
       "apbeaton                 1138.01        23623.01"
      ]
     },
     "execution_count": 77,
     "metadata": {},
     "output_type": "execute_result"
    }
   ],
   "source": [
    "s_data"
   ]
  },
  {
   "cell_type": "code",
   "execution_count": 78,
   "metadata": {},
   "outputs": [],
   "source": [
    "s_data = s_data.apply(lambda x:(x-min(x)) / (max(x)- min(x))) #doing standardization"
   ]
  },
  {
   "cell_type": "code",
   "execution_count": 79,
   "metadata": {},
   "outputs": [],
   "source": [
    "s_data['followers_count'] = s_data['followers_count'] +0.01\n",
    "s_data['statuses_count'] = s_data['statuses_count'] +0.01"
   ]
  },
  {
   "cell_type": "code",
   "execution_count": 80,
   "metadata": {},
   "outputs": [
    {
     "data": {
      "text/html": [
       "<div>\n",
       "<style scoped>\n",
       "    .dataframe tbody tr th:only-of-type {\n",
       "        vertical-align: middle;\n",
       "    }\n",
       "\n",
       "    .dataframe tbody tr th {\n",
       "        vertical-align: top;\n",
       "    }\n",
       "\n",
       "    .dataframe thead th {\n",
       "        text-align: right;\n",
       "    }\n",
       "</style>\n",
       "<table border=\"1\" class=\"dataframe\">\n",
       "  <thead>\n",
       "    <tr style=\"text-align: right;\">\n",
       "      <th></th>\n",
       "      <th>followers_count</th>\n",
       "      <th>statuses_count</th>\n",
       "    </tr>\n",
       "    <tr>\n",
       "      <th>screen_name</th>\n",
       "      <th></th>\n",
       "      <th></th>\n",
       "    </tr>\n",
       "  </thead>\n",
       "  <tbody>\n",
       "    <tr>\n",
       "      <td>ZhengZhongjes</td>\n",
       "      <td>0.011757</td>\n",
       "      <td>0.010000</td>\n",
       "    </tr>\n",
       "    <tr>\n",
       "      <td>nowedibles</td>\n",
       "      <td>0.135659</td>\n",
       "      <td>0.075064</td>\n",
       "    </tr>\n",
       "    <tr>\n",
       "      <td>wrmntr</td>\n",
       "      <td>0.067118</td>\n",
       "      <td>0.011058</td>\n",
       "    </tr>\n",
       "    <tr>\n",
       "      <td>BecDuane</td>\n",
       "      <td>0.055694</td>\n",
       "      <td>0.011905</td>\n",
       "    </tr>\n",
       "    <tr>\n",
       "      <td>Geo50098532</td>\n",
       "      <td>0.010000</td>\n",
       "      <td>0.010000</td>\n",
       "    </tr>\n",
       "  </tbody>\n",
       "</table>\n",
       "</div>"
      ],
      "text/plain": [
       "               followers_count  statuses_count\n",
       "screen_name                                   \n",
       "ZhengZhongjes         0.011757        0.010000\n",
       "nowedibles            0.135659        0.075064\n",
       "wrmntr                0.067118        0.011058\n",
       "BecDuane              0.055694        0.011905\n",
       "Geo50098532           0.010000        0.010000"
      ]
     },
     "execution_count": 80,
     "metadata": {},
     "output_type": "execute_result"
    }
   ],
   "source": [
    "s_data.head()"
   ]
  },
  {
   "cell_type": "code",
   "execution_count": 81,
   "metadata": {},
   "outputs": [],
   "source": [
    "score = s_data['followers_count'] * s_data['statuses_count']"
   ]
  },
  {
   "cell_type": "code",
   "execution_count": 82,
   "metadata": {},
   "outputs": [
    {
     "data": {
      "text/plain": [
       "screen_name\n",
       "ZhengZhongjes      0.000118\n",
       "nowedibles         0.010183\n",
       "wrmntr             0.000742\n",
       "BecDuane           0.000663\n",
       "Geo50098532        0.000100\n",
       "PuneetMungali      0.000127\n",
       "TheHarshitGaur     0.000747\n",
       "AnttiHallavo       0.000162\n",
       "AshlarInnovati1    0.001424\n",
       "peterromero        0.000694\n",
       "liu_jingdong       0.000100\n",
       "blakkurrenr        0.001527\n",
       "AllisonLilie       0.000469\n",
       "rsmitawa           0.000146\n",
       "saimanojbera       0.000310\n",
       "TirathSBindra      0.000110\n",
       "koncle             0.000123\n",
       "07zhiping          0.000101\n",
       "anuj63             0.001499\n",
       "apbeaton           1.020100\n",
       "dtype: float64"
      ]
     },
     "execution_count": 82,
     "metadata": {},
     "output_type": "execute_result"
    }
   ],
   "source": [
    "score"
   ]
  },
  {
   "cell_type": "code",
   "execution_count": 83,
   "metadata": {},
   "outputs": [
    {
     "data": {
      "text/plain": [
       "screen_name\n",
       "apbeaton           1.020100\n",
       "nowedibles         0.010183\n",
       "blakkurrenr        0.001527\n",
       "anuj63             0.001499\n",
       "AshlarInnovati1    0.001424\n",
       "TheHarshitGaur     0.000747\n",
       "wrmntr             0.000742\n",
       "peterromero        0.000694\n",
       "BecDuane           0.000663\n",
       "AllisonLilie       0.000469\n",
       "saimanojbera       0.000310\n",
       "AnttiHallavo       0.000162\n",
       "rsmitawa           0.000146\n",
       "PuneetMungali      0.000127\n",
       "koncle             0.000123\n",
       "ZhengZhongjes      0.000118\n",
       "TirathSBindra      0.000110\n",
       "07zhiping          0.000101\n",
       "liu_jingdong       0.000100\n",
       "Geo50098532        0.000100\n",
       "dtype: float64"
      ]
     },
     "execution_count": 83,
     "metadata": {},
     "output_type": "execute_result"
    }
   ],
   "source": [
    "score.sort_values(ascending = False)"
   ]
  },
  {
   "cell_type": "code",
   "execution_count": 84,
   "metadata": {},
   "outputs": [
    {
     "data": {
      "text/plain": [
       "screen_name\n",
       "apbeaton    1.0201\n",
       "dtype: float64"
      ]
     },
     "execution_count": 84,
     "metadata": {},
     "output_type": "execute_result"
    }
   ],
   "source": [
    "score[score>score.median() + score.std()/2].sort_values(ascending=False)"
   ]
  },
  {
   "cell_type": "code",
   "execution_count": 85,
   "metadata": {},
   "outputs": [
    {
     "data": {
      "text/plain": [
       "0.0003893627022069806"
      ]
     },
     "execution_count": 85,
     "metadata": {},
     "output_type": "execute_result"
    }
   ],
   "source": [
    "score.median()"
   ]
  },
  {
   "cell_type": "code",
   "execution_count": 86,
   "metadata": {},
   "outputs": [],
   "source": [
    "s_data['score'] =score"
   ]
  },
  {
   "cell_type": "code",
   "execution_count": 87,
   "metadata": {},
   "outputs": [],
   "source": [
    "import numpy as np"
   ]
  },
  {
   "cell_type": "code",
   "execution_count": 88,
   "metadata": {},
   "outputs": [],
   "source": [
    "s_data['segment'] = np.where(s_data['score'] >=score.median() + score.std()/len(score) , 'A', 'B')"
   ]
  },
  {
   "cell_type": "code",
   "execution_count": 89,
   "metadata": {},
   "outputs": [
    {
     "data": {
      "text/html": [
       "<div>\n",
       "<style scoped>\n",
       "    .dataframe tbody tr th:only-of-type {\n",
       "        vertical-align: middle;\n",
       "    }\n",
       "\n",
       "    .dataframe tbody tr th {\n",
       "        vertical-align: top;\n",
       "    }\n",
       "\n",
       "    .dataframe thead th {\n",
       "        text-align: right;\n",
       "    }\n",
       "</style>\n",
       "<table border=\"1\" class=\"dataframe\">\n",
       "  <thead>\n",
       "    <tr style=\"text-align: right;\">\n",
       "      <th></th>\n",
       "      <th>followers_count</th>\n",
       "      <th>statuses_count</th>\n",
       "      <th>score</th>\n",
       "      <th>segment</th>\n",
       "    </tr>\n",
       "    <tr>\n",
       "      <th>screen_name</th>\n",
       "      <th></th>\n",
       "      <th></th>\n",
       "      <th></th>\n",
       "      <th></th>\n",
       "    </tr>\n",
       "  </thead>\n",
       "  <tbody>\n",
       "    <tr>\n",
       "      <td>ZhengZhongjes</td>\n",
       "      <td>0.011757</td>\n",
       "      <td>0.010000</td>\n",
       "      <td>0.000118</td>\n",
       "      <td>B</td>\n",
       "    </tr>\n",
       "    <tr>\n",
       "      <td>nowedibles</td>\n",
       "      <td>0.135659</td>\n",
       "      <td>0.075064</td>\n",
       "      <td>0.010183</td>\n",
       "      <td>B</td>\n",
       "    </tr>\n",
       "    <tr>\n",
       "      <td>wrmntr</td>\n",
       "      <td>0.067118</td>\n",
       "      <td>0.011058</td>\n",
       "      <td>0.000742</td>\n",
       "      <td>B</td>\n",
       "    </tr>\n",
       "    <tr>\n",
       "      <td>BecDuane</td>\n",
       "      <td>0.055694</td>\n",
       "      <td>0.011905</td>\n",
       "      <td>0.000663</td>\n",
       "      <td>B</td>\n",
       "    </tr>\n",
       "    <tr>\n",
       "      <td>Geo50098532</td>\n",
       "      <td>0.010000</td>\n",
       "      <td>0.010000</td>\n",
       "      <td>0.000100</td>\n",
       "      <td>B</td>\n",
       "    </tr>\n",
       "    <tr>\n",
       "      <td>PuneetMungali</td>\n",
       "      <td>0.012636</td>\n",
       "      <td>0.010042</td>\n",
       "      <td>0.000127</td>\n",
       "      <td>B</td>\n",
       "    </tr>\n",
       "    <tr>\n",
       "      <td>TheHarshitGaur</td>\n",
       "      <td>0.052179</td>\n",
       "      <td>0.014318</td>\n",
       "      <td>0.000747</td>\n",
       "      <td>B</td>\n",
       "    </tr>\n",
       "    <tr>\n",
       "      <td>AnttiHallavo</td>\n",
       "      <td>0.015272</td>\n",
       "      <td>0.010593</td>\n",
       "      <td>0.000162</td>\n",
       "      <td>B</td>\n",
       "    </tr>\n",
       "    <tr>\n",
       "      <td>AshlarInnovati1</td>\n",
       "      <td>0.076784</td>\n",
       "      <td>0.018551</td>\n",
       "      <td>0.001424</td>\n",
       "      <td>B</td>\n",
       "    </tr>\n",
       "    <tr>\n",
       "      <td>peterromero</td>\n",
       "      <td>0.067118</td>\n",
       "      <td>0.010339</td>\n",
       "      <td>0.000694</td>\n",
       "      <td>B</td>\n",
       "    </tr>\n",
       "    <tr>\n",
       "      <td>liu_jingdong</td>\n",
       "      <td>0.010000</td>\n",
       "      <td>0.010000</td>\n",
       "      <td>0.000100</td>\n",
       "      <td>B</td>\n",
       "    </tr>\n",
       "    <tr>\n",
       "      <td>blakkurrenr</td>\n",
       "      <td>0.126872</td>\n",
       "      <td>0.012032</td>\n",
       "      <td>0.001527</td>\n",
       "      <td>B</td>\n",
       "    </tr>\n",
       "    <tr>\n",
       "      <td>AllisonLilie</td>\n",
       "      <td>0.044271</td>\n",
       "      <td>0.010593</td>\n",
       "      <td>0.000469</td>\n",
       "      <td>B</td>\n",
       "    </tr>\n",
       "    <tr>\n",
       "      <td>rsmitawa</td>\n",
       "      <td>0.014394</td>\n",
       "      <td>0.010169</td>\n",
       "      <td>0.000146</td>\n",
       "      <td>B</td>\n",
       "    </tr>\n",
       "    <tr>\n",
       "      <td>saimanojbera</td>\n",
       "      <td>0.030211</td>\n",
       "      <td>0.010254</td>\n",
       "      <td>0.000310</td>\n",
       "      <td>B</td>\n",
       "    </tr>\n",
       "    <tr>\n",
       "      <td>TirathSBindra</td>\n",
       "      <td>0.010879</td>\n",
       "      <td>0.010085</td>\n",
       "      <td>0.000110</td>\n",
       "      <td>B</td>\n",
       "    </tr>\n",
       "    <tr>\n",
       "      <td>koncle</td>\n",
       "      <td>0.011757</td>\n",
       "      <td>0.010423</td>\n",
       "      <td>0.000123</td>\n",
       "      <td>B</td>\n",
       "    </tr>\n",
       "    <tr>\n",
       "      <td>07zhiping</td>\n",
       "      <td>0.010000</td>\n",
       "      <td>0.010085</td>\n",
       "      <td>0.000101</td>\n",
       "      <td>B</td>\n",
       "    </tr>\n",
       "    <tr>\n",
       "      <td>anuj63</td>\n",
       "      <td>0.102267</td>\n",
       "      <td>0.014656</td>\n",
       "      <td>0.001499</td>\n",
       "      <td>B</td>\n",
       "    </tr>\n",
       "    <tr>\n",
       "      <td>apbeaton</td>\n",
       "      <td>1.010000</td>\n",
       "      <td>1.010000</td>\n",
       "      <td>1.020100</td>\n",
       "      <td>A</td>\n",
       "    </tr>\n",
       "  </tbody>\n",
       "</table>\n",
       "</div>"
      ],
      "text/plain": [
       "                 followers_count  statuses_count     score segment\n",
       "screen_name                                                       \n",
       "ZhengZhongjes           0.011757        0.010000  0.000118       B\n",
       "nowedibles              0.135659        0.075064  0.010183       B\n",
       "wrmntr                  0.067118        0.011058  0.000742       B\n",
       "BecDuane                0.055694        0.011905  0.000663       B\n",
       "Geo50098532             0.010000        0.010000  0.000100       B\n",
       "PuneetMungali           0.012636        0.010042  0.000127       B\n",
       "TheHarshitGaur          0.052179        0.014318  0.000747       B\n",
       "AnttiHallavo            0.015272        0.010593  0.000162       B\n",
       "AshlarInnovati1         0.076784        0.018551  0.001424       B\n",
       "peterromero             0.067118        0.010339  0.000694       B\n",
       "liu_jingdong            0.010000        0.010000  0.000100       B\n",
       "blakkurrenr             0.126872        0.012032  0.001527       B\n",
       "AllisonLilie            0.044271        0.010593  0.000469       B\n",
       "rsmitawa                0.014394        0.010169  0.000146       B\n",
       "saimanojbera            0.030211        0.010254  0.000310       B\n",
       "TirathSBindra           0.010879        0.010085  0.000110       B\n",
       "koncle                  0.011757        0.010423  0.000123       B\n",
       "07zhiping               0.010000        0.010085  0.000101       B\n",
       "anuj63                  0.102267        0.014656  0.001499       B\n",
       "apbeaton                1.010000        1.010000  1.020100       A"
      ]
     },
     "execution_count": 89,
     "metadata": {},
     "output_type": "execute_result"
    }
   ],
   "source": [
    "s_data"
   ]
  },
  {
   "cell_type": "code",
   "execution_count": 90,
   "metadata": {},
   "outputs": [],
   "source": [
    "a = api.user_timeline(id= 'AndrewYNg',count=5)"
   ]
  },
  {
   "cell_type": "code",
   "execution_count": 91,
   "metadata": {},
   "outputs": [
    {
     "name": "stdout",
     "output_type": "stream",
     "text": [
      "Chatting with @lexfridman about ML, rise of MOOCs, what’s hard in learning AI, ... was the most fun interview I’ve… https://t.co/Kq3XDP30l1\n",
      "Consumer internet companies with 1B+ users have popularized Big Data. But industries like manufacturing, agricultur… https://t.co/oBWEWaPU69\n",
      "Happy multi-cultural palindrome day! Works whether your preferred date format is MM/DD/YYYY or DD/MM/YYYY or  YYYY/MM/DD.\n",
      "Great chatting with @lexfridman. We talked about everything from the early mistakes I made building MOOCs to the ch… https://t.co/ksALj0InTq\n",
      "Great having @EricTopol visit just now. His book Deep Medicine gives a compelling vision for AI in healthcare. We h… https://t.co/ylxKzpSNNM\n"
     ]
    }
   ],
   "source": [
    "for i in a:\n",
    "    print(i.text)"
   ]
  },
  {
   "cell_type": "code",
   "execution_count": 92,
   "metadata": {},
   "outputs": [],
   "source": [
    "def country_codes():\n",
    "    places = api.trends_available()\n",
    "    all_woeids = {place['name'].lower(): place['woeid'] for place in places}\n",
    "    return all_woeids"
   ]
  },
  {
   "cell_type": "code",
   "execution_count": 93,
   "metadata": {},
   "outputs": [],
   "source": [
    "# country_codes()"
   ]
  },
  {
   "cell_type": "code",
   "execution_count": 94,
   "metadata": {},
   "outputs": [],
   "source": [
    "def country_woeid(country_name):\n",
    "    country_name = country_name.lower()\n",
    "    trends = api.trends_available()\n",
    "    all_woeids = country_codes()\n",
    "    return all_woeids[country_name]"
   ]
  },
  {
   "cell_type": "code",
   "execution_count": 95,
   "metadata": {},
   "outputs": [
    {
     "data": {
      "text/plain": [
       "23424969"
      ]
     },
     "execution_count": 95,
     "metadata": {},
     "output_type": "execute_result"
    }
   ],
   "source": [
    "country_woeid('turkey')"
   ]
  },
  {
   "cell_type": "code",
   "execution_count": 96,
   "metadata": {},
   "outputs": [],
   "source": [
    "trends = api.trends_place(id= 23424969 )"
   ]
  },
  {
   "cell_type": "code",
   "execution_count": 97,
   "metadata": {},
   "outputs": [],
   "source": [
    "import json\n",
    "#print(json.dumps(trends, indent=1))"
   ]
  },
  {
   "cell_type": "code",
   "execution_count": 98,
   "metadata": {},
   "outputs": [],
   "source": [
    "turkey = api.trends_place(id= 23424969 )\n",
    "trends = turkey[0]['trends']"
   ]
  },
  {
   "cell_type": "markdown",
   "metadata": {},
   "source": [
    "## Pull Data from Hashtag"
   ]
  },
  {
   "cell_type": "code",
   "execution_count": 99,
   "metadata": {},
   "outputs": [],
   "source": [
    "tweets = api.search(q= '#datascience', lang='en',\n",
    "                     result_type='recent', counts = 1000)"
   ]
  },
  {
   "cell_type": "code",
   "execution_count": 100,
   "metadata": {},
   "outputs": [],
   "source": [
    "def hashtag_df(results):\n",
    "    id_list = [tweet.id for tweet in results]\n",
    "    data_set = pd.DataFrame(id_list,columns=['id'])\n",
    "    \n",
    "    \n",
    "    data_set['text'] = [tweet.text for tweet in results]\n",
    "    data_set['created_at'] = [tweet.created_at for tweet in results]\n",
    "    data_set['retweeted'] = [tweet.retweeted for tweet in results]\n",
    "    data_set['retweet_count'] = [tweet.retweet_count for tweet in results]\n",
    "    data_set['name'] = [tweet.author.name for tweet in results]\n",
    "    data_set['user_screen_name'] = [tweet.author.screen_name for tweet in results]\n",
    "    data_set['user_followers_count'] = [tweet.author.followers_count for tweet in results]\n",
    "    data_set['user_location'] = [tweet.author.location for tweet in results]\n",
    "    data_set['Hashtags'] = [tweet.entities.get('hashtags') for tweet in results]\n",
    "    \n",
    "    return data_set"
   ]
  },
  {
   "cell_type": "code",
   "execution_count": 101,
   "metadata": {},
   "outputs": [],
   "source": [
    "df = hashtag_df(tweets)"
   ]
  },
  {
   "cell_type": "code",
   "execution_count": 102,
   "metadata": {},
   "outputs": [
    {
     "data": {
      "text/plain": [
       "(15, 10)"
      ]
     },
     "execution_count": 102,
     "metadata": {},
     "output_type": "execute_result"
    }
   ],
   "source": [
    "df.shape"
   ]
  },
  {
   "cell_type": "code",
   "execution_count": 103,
   "metadata": {
    "scrolled": true
   },
   "outputs": [
    {
     "data": {
      "text/html": [
       "<div>\n",
       "<style scoped>\n",
       "    .dataframe tbody tr th:only-of-type {\n",
       "        vertical-align: middle;\n",
       "    }\n",
       "\n",
       "    .dataframe tbody tr th {\n",
       "        vertical-align: top;\n",
       "    }\n",
       "\n",
       "    .dataframe thead th {\n",
       "        text-align: right;\n",
       "    }\n",
       "</style>\n",
       "<table border=\"1\" class=\"dataframe\">\n",
       "  <thead>\n",
       "    <tr style=\"text-align: right;\">\n",
       "      <th></th>\n",
       "      <th>id</th>\n",
       "      <th>text</th>\n",
       "      <th>created_at</th>\n",
       "      <th>retweeted</th>\n",
       "      <th>retweet_count</th>\n",
       "      <th>name</th>\n",
       "      <th>user_screen_name</th>\n",
       "      <th>user_followers_count</th>\n",
       "      <th>user_location</th>\n",
       "      <th>Hashtags</th>\n",
       "    </tr>\n",
       "  </thead>\n",
       "  <tbody>\n",
       "    <tr>\n",
       "      <td>0</td>\n",
       "      <td>1233294134179454976</td>\n",
       "      <td>RT @amardeepkaushal: Deep Learning Chatbot: Ev...</td>\n",
       "      <td>2020-02-28 07:33:29</td>\n",
       "      <td>False</td>\n",
       "      <td>62</td>\n",
       "      <td>J-FACE</td>\n",
       "      <td>JFace4Ever</td>\n",
       "      <td>1313</td>\n",
       "      <td>Charlotte, NC</td>\n",
       "      <td>[{'text': 'DigitalTransformation', 'indices': ...</td>\n",
       "    </tr>\n",
       "    <tr>\n",
       "      <td>1</td>\n",
       "      <td>1233294108036345857</td>\n",
       "      <td>RT @amardeepkaushal: Deep Learning Chatbot: Ev...</td>\n",
       "      <td>2020-02-28 07:33:23</td>\n",
       "      <td>False</td>\n",
       "      <td>62</td>\n",
       "      <td>Ybeezydakid101</td>\n",
       "      <td>OfficalYBPage</td>\n",
       "      <td>1510</td>\n",
       "      <td>Indianapolis, IN 46229</td>\n",
       "      <td>[{'text': 'DigitalTransformation', 'indices': ...</td>\n",
       "    </tr>\n",
       "    <tr>\n",
       "      <td>2</td>\n",
       "      <td>1233294099849129984</td>\n",
       "      <td>And Now This:  What are Machine Learning and D...</td>\n",
       "      <td>2020-02-28 07:33:21</td>\n",
       "      <td>False</td>\n",
       "      <td>0</td>\n",
       "      <td>Chuck Russell</td>\n",
       "      <td>cichuck</td>\n",
       "      <td>22827</td>\n",
       "      <td>Harrisburg, PA</td>\n",
       "      <td>[{'text': 'tech', 'indices': [104, 109]}]</td>\n",
       "    </tr>\n",
       "    <tr>\n",
       "      <td>3</td>\n",
       "      <td>1233294059088891905</td>\n",
       "      <td>RT @OracleAnalytics: How can you make #datasci...</td>\n",
       "      <td>2020-02-28 07:33:11</td>\n",
       "      <td>False</td>\n",
       "      <td>6</td>\n",
       "      <td>HubofMachineLearning</td>\n",
       "      <td>hubofml</td>\n",
       "      <td>1834</td>\n",
       "      <td>Germany</td>\n",
       "      <td>[{'text': 'datascience', 'indices': [38, 50]}]</td>\n",
       "    </tr>\n",
       "    <tr>\n",
       "      <td>4</td>\n",
       "      <td>1233294037127507968</td>\n",
       "      <td>RT @OracleAnalytics: How can you make #datasci...</td>\n",
       "      <td>2020-02-28 07:33:06</td>\n",
       "      <td>False</td>\n",
       "      <td>6</td>\n",
       "      <td>Gabriel Trauvitch</td>\n",
       "      <td>gtrauvit</td>\n",
       "      <td>165</td>\n",
       "      <td>Athens, Greece</td>\n",
       "      <td>[{'text': 'datascience', 'indices': [38, 50]}]</td>\n",
       "    </tr>\n",
       "    <tr>\n",
       "      <td>5</td>\n",
       "      <td>1233293836899713028</td>\n",
       "      <td>RT @gp_pulipaka: Best Paper Award at ICLR 2019...</td>\n",
       "      <td>2020-02-28 07:32:18</td>\n",
       "      <td>False</td>\n",
       "      <td>30</td>\n",
       "      <td>CyberSecurityBot 🤖</td>\n",
       "      <td>CyberSecCare</td>\n",
       "      <td>83</td>\n",
       "      <td>Matrix</td>\n",
       "      <td>[{'text': 'BigData', 'indices': [48, 56]}, {'t...</td>\n",
       "    </tr>\n",
       "    <tr>\n",
       "      <td>6</td>\n",
       "      <td>1233293823691743235</td>\n",
       "      <td>RT @gp_pulipaka: Best Paper Award at ICLR 2019...</td>\n",
       "      <td>2020-02-28 07:32:15</td>\n",
       "      <td>False</td>\n",
       "      <td>30</td>\n",
       "      <td>LinuxBot</td>\n",
       "      <td>LlnuxBot</td>\n",
       "      <td>1239</td>\n",
       "      <td>Raspberry Pi</td>\n",
       "      <td>[{'text': 'BigData', 'indices': [48, 56]}, {'t...</td>\n",
       "    </tr>\n",
       "    <tr>\n",
       "      <td>7</td>\n",
       "      <td>1233293822613999617</td>\n",
       "      <td>RT @amardeepkaushal: Deep Learning Chatbot: Ev...</td>\n",
       "      <td>2020-02-28 07:32:15</td>\n",
       "      <td>False</td>\n",
       "      <td>62</td>\n",
       "      <td>Red Bizzle</td>\n",
       "      <td>RedBizzle131</td>\n",
       "      <td>1272</td>\n",
       "      <td>Tra Riverz, MI</td>\n",
       "      <td>[{'text': 'DigitalTransformation', 'indices': ...</td>\n",
       "    </tr>\n",
       "    <tr>\n",
       "      <td>8</td>\n",
       "      <td>1233293788065476608</td>\n",
       "      <td>#AI #DataScience #ML #Robotics 📄 Machine Learn...</td>\n",
       "      <td>2020-02-28 07:32:07</td>\n",
       "      <td>False</td>\n",
       "      <td>0</td>\n",
       "      <td>Kevin Cooper</td>\n",
       "      <td>KevinCooperCEO</td>\n",
       "      <td>2334</td>\n",
       "      <td></td>\n",
       "      <td>[{'text': 'AI', 'indices': [0, 3]}, {'text': '...</td>\n",
       "    </tr>\n",
       "    <tr>\n",
       "      <td>9</td>\n",
       "      <td>1233293714652618753</td>\n",
       "      <td>RT @amardeepkaushal: Deep Learning Chatbot: Ev...</td>\n",
       "      <td>2020-02-28 07:31:49</td>\n",
       "      <td>False</td>\n",
       "      <td>62</td>\n",
       "      <td>Brick</td>\n",
       "      <td>MrneedaBrick</td>\n",
       "      <td>839</td>\n",
       "      <td>Atlanta, GA</td>\n",
       "      <td>[{'text': 'DigitalTransformation', 'indices': ...</td>\n",
       "    </tr>\n",
       "    <tr>\n",
       "      <td>10</td>\n",
       "      <td>1233293692519272448</td>\n",
       "      <td>RT @amardeepkaushal: Deep Learning Chatbot: Ev...</td>\n",
       "      <td>2020-02-28 07:31:44</td>\n",
       "      <td>False</td>\n",
       "      <td>62</td>\n",
       "      <td>MeYouMusic</td>\n",
       "      <td>meyoumusicboy</td>\n",
       "      <td>2843</td>\n",
       "      <td>Atlanta, GA</td>\n",
       "      <td>[{'text': 'DigitalTransformation', 'indices': ...</td>\n",
       "    </tr>\n",
       "    <tr>\n",
       "      <td>11</td>\n",
       "      <td>1233293690136719360</td>\n",
       "      <td>RT @SKlausDev: Machine Learning on Encrypted D...</td>\n",
       "      <td>2020-02-28 07:31:43</td>\n",
       "      <td>False</td>\n",
       "      <td>1</td>\n",
       "      <td>Harshavardhan S</td>\n",
       "      <td>HarshaSanthoor</td>\n",
       "      <td>8</td>\n",
       "      <td></td>\n",
       "      <td>[{'text': 'MachineLearning', 'indices': [88, 1...</td>\n",
       "    </tr>\n",
       "    <tr>\n",
       "      <td>12</td>\n",
       "      <td>1233293658914512898</td>\n",
       "      <td>RT @idalail98916215: Data Analytics: SQL for n...</td>\n",
       "      <td>2020-02-28 07:31:36</td>\n",
       "      <td>False</td>\n",
       "      <td>11</td>\n",
       "      <td>HubofMachineLearning</td>\n",
       "      <td>hubofml</td>\n",
       "      <td>1834</td>\n",
       "      <td>Germany</td>\n",
       "      <td>[{'text': 'data', 'indices': [103, 108]}, {'te...</td>\n",
       "    </tr>\n",
       "    <tr>\n",
       "      <td>13</td>\n",
       "      <td>1233293654510460928</td>\n",
       "      <td>RT @gp_pulipaka: Best Paper Award at ICLR 2019...</td>\n",
       "      <td>2020-02-28 07:31:35</td>\n",
       "      <td>False</td>\n",
       "      <td>30</td>\n",
       "      <td>HubofMachineLearning</td>\n",
       "      <td>hubofml</td>\n",
       "      <td>1834</td>\n",
       "      <td>Germany</td>\n",
       "      <td>[{'text': 'BigData', 'indices': [48, 56]}, {'t...</td>\n",
       "    </tr>\n",
       "    <tr>\n",
       "      <td>14</td>\n",
       "      <td>1233293650949365760</td>\n",
       "      <td>RT @Omkar_Raii: Startups like @synctactic demo...</td>\n",
       "      <td>2020-02-28 07:31:34</td>\n",
       "      <td>False</td>\n",
       "      <td>197</td>\n",
       "      <td>Hemanth Kumar R</td>\n",
       "      <td>Hemanthkr15586</td>\n",
       "      <td>54</td>\n",
       "      <td>Bengaluru</td>\n",
       "      <td>[{'text': 'DataScience', 'indices': [68, 80]},...</td>\n",
       "    </tr>\n",
       "  </tbody>\n",
       "</table>\n",
       "</div>"
      ],
      "text/plain": [
       "                     id                                               text  \\\n",
       "0   1233294134179454976  RT @amardeepkaushal: Deep Learning Chatbot: Ev...   \n",
       "1   1233294108036345857  RT @amardeepkaushal: Deep Learning Chatbot: Ev...   \n",
       "2   1233294099849129984  And Now This:  What are Machine Learning and D...   \n",
       "3   1233294059088891905  RT @OracleAnalytics: How can you make #datasci...   \n",
       "4   1233294037127507968  RT @OracleAnalytics: How can you make #datasci...   \n",
       "5   1233293836899713028  RT @gp_pulipaka: Best Paper Award at ICLR 2019...   \n",
       "6   1233293823691743235  RT @gp_pulipaka: Best Paper Award at ICLR 2019...   \n",
       "7   1233293822613999617  RT @amardeepkaushal: Deep Learning Chatbot: Ev...   \n",
       "8   1233293788065476608  #AI #DataScience #ML #Robotics 📄 Machine Learn...   \n",
       "9   1233293714652618753  RT @amardeepkaushal: Deep Learning Chatbot: Ev...   \n",
       "10  1233293692519272448  RT @amardeepkaushal: Deep Learning Chatbot: Ev...   \n",
       "11  1233293690136719360  RT @SKlausDev: Machine Learning on Encrypted D...   \n",
       "12  1233293658914512898  RT @idalail98916215: Data Analytics: SQL for n...   \n",
       "13  1233293654510460928  RT @gp_pulipaka: Best Paper Award at ICLR 2019...   \n",
       "14  1233293650949365760  RT @Omkar_Raii: Startups like @synctactic demo...   \n",
       "\n",
       "            created_at  retweeted  retweet_count                  name  \\\n",
       "0  2020-02-28 07:33:29      False             62                J-FACE   \n",
       "1  2020-02-28 07:33:23      False             62        Ybeezydakid101   \n",
       "2  2020-02-28 07:33:21      False              0         Chuck Russell   \n",
       "3  2020-02-28 07:33:11      False              6  HubofMachineLearning   \n",
       "4  2020-02-28 07:33:06      False              6     Gabriel Trauvitch   \n",
       "5  2020-02-28 07:32:18      False             30    CyberSecurityBot 🤖   \n",
       "6  2020-02-28 07:32:15      False             30              LinuxBot   \n",
       "7  2020-02-28 07:32:15      False             62            Red Bizzle   \n",
       "8  2020-02-28 07:32:07      False              0          Kevin Cooper   \n",
       "9  2020-02-28 07:31:49      False             62                 Brick   \n",
       "10 2020-02-28 07:31:44      False             62            MeYouMusic   \n",
       "11 2020-02-28 07:31:43      False              1       Harshavardhan S   \n",
       "12 2020-02-28 07:31:36      False             11  HubofMachineLearning   \n",
       "13 2020-02-28 07:31:35      False             30  HubofMachineLearning   \n",
       "14 2020-02-28 07:31:34      False            197       Hemanth Kumar R   \n",
       "\n",
       "   user_screen_name  user_followers_count            user_location  \\\n",
       "0        JFace4Ever                  1313            Charlotte, NC   \n",
       "1     OfficalYBPage                  1510   Indianapolis, IN 46229   \n",
       "2           cichuck                 22827           Harrisburg, PA   \n",
       "3           hubofml                  1834                 Germany    \n",
       "4          gtrauvit                   165           Athens, Greece   \n",
       "5      CyberSecCare                    83                   Matrix   \n",
       "6          LlnuxBot                  1239             Raspberry Pi   \n",
       "7      RedBizzle131                  1272           Tra Riverz, MI   \n",
       "8    KevinCooperCEO                  2334                            \n",
       "9      MrneedaBrick                   839              Atlanta, GA   \n",
       "10    meyoumusicboy                  2843              Atlanta, GA   \n",
       "11   HarshaSanthoor                     8                            \n",
       "12          hubofml                  1834                 Germany    \n",
       "13          hubofml                  1834                 Germany    \n",
       "14   Hemanthkr15586                    54                Bengaluru   \n",
       "\n",
       "                                             Hashtags  \n",
       "0   [{'text': 'DigitalTransformation', 'indices': ...  \n",
       "1   [{'text': 'DigitalTransformation', 'indices': ...  \n",
       "2           [{'text': 'tech', 'indices': [104, 109]}]  \n",
       "3      [{'text': 'datascience', 'indices': [38, 50]}]  \n",
       "4      [{'text': 'datascience', 'indices': [38, 50]}]  \n",
       "5   [{'text': 'BigData', 'indices': [48, 56]}, {'t...  \n",
       "6   [{'text': 'BigData', 'indices': [48, 56]}, {'t...  \n",
       "7   [{'text': 'DigitalTransformation', 'indices': ...  \n",
       "8   [{'text': 'AI', 'indices': [0, 3]}, {'text': '...  \n",
       "9   [{'text': 'DigitalTransformation', 'indices': ...  \n",
       "10  [{'text': 'DigitalTransformation', 'indices': ...  \n",
       "11  [{'text': 'MachineLearning', 'indices': [88, 1...  \n",
       "12  [{'text': 'data', 'indices': [103, 108]}, {'te...  \n",
       "13  [{'text': 'BigData', 'indices': [48, 56]}, {'t...  \n",
       "14  [{'text': 'DataScience', 'indices': [68, 80]},...  "
      ]
     },
     "execution_count": 103,
     "metadata": {},
     "output_type": "execute_result"
    }
   ],
   "source": [
    "df"
   ]
  },
  {
   "cell_type": "code",
   "execution_count": 104,
   "metadata": {
    "run_control": {
     "marked": false
    }
   },
   "outputs": [],
   "source": [
    "df['tweet_hour'] = df['created_at'].apply(lambda x: x.strftime('%H'))"
   ]
  },
  {
   "cell_type": "code",
   "execution_count": 105,
   "metadata": {},
   "outputs": [],
   "source": [
    "df['tweet_hour'] = pd.to_numeric(df['tweet_hour'])"
   ]
  },
  {
   "cell_type": "code",
   "execution_count": 106,
   "metadata": {},
   "outputs": [
    {
     "data": {
      "text/plain": [
       "<matplotlib.axes._subplots.AxesSubplot at 0x7ffa70a01518>"
      ]
     },
     "execution_count": 106,
     "metadata": {},
     "output_type": "execute_result"
    },
    {
     "data": {
      "image/png": "[encoded data removed]",
      "text/plain": [
       "<Figure size 720x432 with 1 Axes>"
      ]
     },
     "metadata": {
      "needs_background": "light"
     },
     "output_type": "display_data"
    }
   ],
   "source": [
    "plt.figure(figsize=(10,6))\n",
    "sns.distplot(df['tweet_hour'], kde=True, color='blue')"
   ]
  },
  {
   "cell_type": "code",
   "execution_count": 107,
   "metadata": {},
   "outputs": [],
   "source": [
    "df['days'] = df['created_at'].dt.weekday_name"
   ]
  },
  {
   "cell_type": "code",
   "execution_count": 108,
   "metadata": {},
   "outputs": [],
   "source": [
    "gun_freq = df.groupby('days').count()['id']"
   ]
  },
  {
   "cell_type": "code",
   "execution_count": 109,
   "metadata": {},
   "outputs": [
    {
     "data": {
      "text/plain": [
       "<matplotlib.axes._subplots.AxesSubplot at 0x7ffa70896da0>"
      ]
     },
     "execution_count": 109,
     "metadata": {},
     "output_type": "execute_result"
    },
    {
     "data": {
      "image/png": "[encoded data removed]",
      "text/plain": [
       "<Figure size 432x288 with 1 Axes>"
      ]
     },
     "metadata": {
      "needs_background": "light"
     },
     "output_type": "display_data"
    }
   ],
   "source": [
    "gun_freq.plot.bar(x='days', y='id')"
   ]
  },
  {
   "cell_type": "markdown",
   "metadata": {},
   "source": [
    "# Twitter Text Mining"
   ]
  },
  {
   "cell_type": "code",
   "execution_count": 110,
   "metadata": {},
   "outputs": [],
   "source": [
    "\n",
    "df['text'] = df['text'].apply(lambda x: \" \".join(x.lower() for x in x.split()))\n",
    "\n",
    "df['text'] = df['text'].str.replace('[^\\w\\s]', '')\n",
    "\n",
    "df['text'] = df['text'].str.replace('[\\d]','')\n",
    "\n",
    "\n",
    "import nltk\n",
    "from nltk.corpus import stopwords\n",
    "sw = stopwords.words('english')\n",
    "df['text'] = df['text'].apply(lambda x: \" \".join(x for x in x.split() if x not in sw))\n",
    "\n",
    "#lemmi\n",
    "from textblob import Word\n",
    "df['text'] = df['text'].apply(lambda x: \" \".join([Word(word).lemmatize() for word in x.split()] ))\n",
    "\n",
    "df['text'] = df['text'].str.replace('rt', '')"
   ]
  },
  {
   "cell_type": "code",
   "execution_count": 111,
   "metadata": {
    "scrolled": true
   },
   "outputs": [
    {
     "data": {
      "text/plain": [
       "0      amardeepkaushal deep learning chatbot everyth...\n",
       "1      amardeepkaushal deep learning chatbot everyth...\n",
       "2     machine learning deep learning aificial intell...\n",
       "3      oracleanalytics make datascience team effo co...\n",
       "4      oracleanalytics make datascience team effo co...\n",
       "5      gp_pulipaka best paper award iclr bigdata ana...\n",
       "6      gp_pulipaka best paper award iclr bigdata ana...\n",
       "7      amardeepkaushal deep learning chatbot everyth...\n",
       "8     ai datascience ml robotics machine learning pa...\n",
       "9      amardeepkaushal deep learning chatbot everyth...\n",
       "10     amardeepkaushal deep learning chatbot everyth...\n",
       "11     sklausdev machine learning encrypted data lon...\n",
       "12     idalail data analytics sql newbs beginner mar...\n",
       "13     gp_pulipaka best paper award iclr bigdata ana...\n",
       "14     omkar_raii staup like synctactic democratisin...\n",
       "Name: text, dtype: object"
      ]
     },
     "execution_count": 111,
     "metadata": {},
     "output_type": "execute_result"
    }
   ],
   "source": [
    "df.text"
   ]
  },
  {
   "cell_type": "code",
   "execution_count": 112,
   "metadata": {},
   "outputs": [],
   "source": [
    "freq_df = df['text'].apply(lambda x:pd.value_counts(x.split(\" \"))).sum(axis = 0).reset_index()"
   ]
  },
  {
   "cell_type": "code",
   "execution_count": 113,
   "metadata": {},
   "outputs": [],
   "source": [
    "freq_df.columns = ['words', 'freqs']"
   ]
  },
  {
   "cell_type": "code",
   "execution_count": 114,
   "metadata": {
    "scrolled": true
   },
   "outputs": [
    {
     "data": {
      "text/html": [
       "<div>\n",
       "<style scoped>\n",
       "    .dataframe tbody tr th:only-of-type {\n",
       "        vertical-align: middle;\n",
       "    }\n",
       "\n",
       "    .dataframe tbody tr th {\n",
       "        vertical-align: top;\n",
       "    }\n",
       "\n",
       "    .dataframe thead th {\n",
       "        text-align: right;\n",
       "    }\n",
       "</style>\n",
       "<table border=\"1\" class=\"dataframe\">\n",
       "  <thead>\n",
       "    <tr style=\"text-align: right;\">\n",
       "      <th></th>\n",
       "      <th>words</th>\n",
       "      <th>freqs</th>\n",
       "    </tr>\n",
       "  </thead>\n",
       "  <tbody>\n",
       "    <tr>\n",
       "      <td>12</td>\n",
       "      <td></td>\n",
       "      <td>13.0</td>\n",
       "    </tr>\n",
       "    <tr>\n",
       "      <td>10</td>\n",
       "      <td>learning</td>\n",
       "      <td>11.0</td>\n",
       "    </tr>\n",
       "    <tr>\n",
       "      <td>7</td>\n",
       "      <td>ai</td>\n",
       "      <td>11.0</td>\n",
       "    </tr>\n",
       "    <tr>\n",
       "      <td>5</td>\n",
       "      <td>python</td>\n",
       "      <td>8.0</td>\n",
       "    </tr>\n",
       "    <tr>\n",
       "      <td>11</td>\n",
       "      <td>iot</td>\n",
       "      <td>8.0</td>\n",
       "    </tr>\n",
       "    <tr>\n",
       "      <td>...</td>\n",
       "      <td>...</td>\n",
       "      <td>...</td>\n",
       "    </tr>\n",
       "    <tr>\n",
       "      <td>51</td>\n",
       "      <td>sklausdev</td>\n",
       "      <td>1.0</td>\n",
       "    </tr>\n",
       "    <tr>\n",
       "      <td>52</td>\n",
       "      <td>longer</td>\n",
       "      <td>1.0</td>\n",
       "    </tr>\n",
       "    <tr>\n",
       "      <td>54</td>\n",
       "      <td>fantasy</td>\n",
       "      <td>1.0</td>\n",
       "    </tr>\n",
       "    <tr>\n",
       "      <td>55</td>\n",
       "      <td>encrypted</td>\n",
       "      <td>1.0</td>\n",
       "    </tr>\n",
       "    <tr>\n",
       "      <td>78</td>\n",
       "      <td>organisation</td>\n",
       "      <td>1.0</td>\n",
       "    </tr>\n",
       "  </tbody>\n",
       "</table>\n",
       "<p>79 rows × 2 columns</p>\n",
       "</div>"
      ],
      "text/plain": [
       "           words  freqs\n",
       "12                 13.0\n",
       "10      learning   11.0\n",
       "7             ai   11.0\n",
       "5         python    8.0\n",
       "11           iot    8.0\n",
       "..           ...    ...\n",
       "51     sklausdev    1.0\n",
       "52        longer    1.0\n",
       "54       fantasy    1.0\n",
       "55     encrypted    1.0\n",
       "78  organisation    1.0\n",
       "\n",
       "[79 rows x 2 columns]"
      ]
     },
     "execution_count": 114,
     "metadata": {},
     "output_type": "execute_result"
    }
   ],
   "source": [
    "freq_df.sort_values('freqs',ascending=False)"
   ]
  },
  {
   "cell_type": "code",
   "execution_count": 115,
   "metadata": {},
   "outputs": [
    {
     "data": {
      "text/plain": [
       "(79, 2)"
      ]
     },
     "execution_count": 115,
     "metadata": {},
     "output_type": "execute_result"
    }
   ],
   "source": [
    "freq_df.shape"
   ]
  },
  {
   "cell_type": "code",
   "execution_count": 116,
   "metadata": {},
   "outputs": [],
   "source": [
    "a = freq_df[freq_df.freqs > freq_df.freqs.mean() + \n",
    "       freq_df.freqs.std()] # this code for the being more meaningful"
   ]
  },
  {
   "cell_type": "code",
   "execution_count": 117,
   "metadata": {},
   "outputs": [
    {
     "data": {
      "text/plain": [
       "<matplotlib.axes._subplots.AxesSubplot at 0x7ffa6e397c18>"
      ]
     },
     "execution_count": 117,
     "metadata": {},
     "output_type": "execute_result"
    },
    {
     "data": {
      "image/png": "[encoded data removed]",
      "text/plain": [
       "<Figure size 432x288 with 1 Axes>"
      ]
     },
     "metadata": {
      "needs_background": "light"
     },
     "output_type": "display_data"
    }
   ],
   "source": [
    "a.plot.bar(x= 'words', y= 'freqs')"
   ]
  },
  {
   "cell_type": "markdown",
   "metadata": {},
   "source": [
    "## Word Cloud"
   ]
  },
  {
   "cell_type": "code",
   "execution_count": 118,
   "metadata": {},
   "outputs": [],
   "source": [
    "import numpy as np\n",
    "import pandas as pd\n",
    "from os import path\n",
    "from PIL import Image\n",
    "from wordcloud import WordCloud , STOPWORDS, ImageColorGenerator\n",
    "import matplotlib.pyplot as plt"
   ]
  },
  {
   "cell_type": "code",
   "execution_count": 119,
   "metadata": {},
   "outputs": [],
   "source": [
    "text = \" \".join(i for i in df.text)"
   ]
  },
  {
   "cell_type": "code",
   "execution_count": 120,
   "metadata": {
    "scrolled": true
   },
   "outputs": [
    {
     "data": {
      "text/plain": [
       "' amardeepkaushal deep learning chatbot everything need know httpstcotulsfzcsk digitaltransformation python iot ai  amardeepkaushal deep learning chatbot everything need know httpstcotulsfzcsk digitaltransformation python iot ai machine learning deep learning aificial intelligence twcn tech news tech httpstcosoohtt  oracleanalytics make datascience team effo collaboratively building training deploying machine learning mode  oracleanalytics make datascience team effo collaboratively building training deploying machine learning mode  gp_pulipaka best paper award iclr bigdata analytics datascience ai machinelearning iot iiot pytorch python rstats  gp_pulipaka best paper award iclr bigdata analytics datascience ai machinelearning iot iiot pytorch python rstats  amardeepkaushal deep learning chatbot everything need know httpstcotulsfzcsk digitaltransformation python iot ai ai datascience ml robotics machine learning paper generative model dynamic linear flow link httpstcozgndwmod  amardeepkaushal deep learning chatbot everything need know httpstcotulsfzcsk digitaltransformation python iot ai  amardeepkaushal deep learning chatbot everything need know httpstcotulsfzcsk digitaltransformation python iot ai  sklausdev machine learning encrypted data longer fantasy yaron sheffer machinelearning ai deeplearning security data  idalail data analytics sql newbs beginner marketer httpstcoiplbgydvo data dataanalytics sql linuxhac  gp_pulipaka best paper award iclr bigdata analytics datascience ai machinelearning iot iiot pytorch python rstats  omkar_raii staup like synctactic democratising adoption datascience ml amp ai across enterprise turning organisation da'"
      ]
     },
     "execution_count": 120,
     "metadata": {},
     "output_type": "execute_result"
    }
   ],
   "source": [
    "text"
   ]
  },
  {
   "cell_type": "code",
   "execution_count": 121,
   "metadata": {},
   "outputs": [
    {
     "data": {
      "image/png": "[encoded data removed]",
      "text/plain": [
       "<Figure size 720x432 with 1 Axes>"
      ]
     },
     "metadata": {
      "needs_background": "light"
     },
     "output_type": "display_data"
    }
   ],
   "source": [
    "wc = WordCloud(background_color='white').generate(text)\n",
    "plt.figure(figsize=(10,6))\n",
    "plt.imshow(wc, interpolation='bilinear')\n",
    "plt.axis('off')\n",
    "plt.tight_layout(pad = 0)\n",
    "plt.show()"
   ]
  },
  {
   "cell_type": "markdown",
   "metadata": {},
   "source": [
    "# Twitter Sentiment"
   ]
  },
  {
   "cell_type": "code",
   "execution_count": 122,
   "metadata": {},
   "outputs": [
    {
     "data": {
      "text/html": [
       "<div>\n",
       "<style scoped>\n",
       "    .dataframe tbody tr th:only-of-type {\n",
       "        vertical-align: middle;\n",
       "    }\n",
       "\n",
       "    .dataframe tbody tr th {\n",
       "        vertical-align: top;\n",
       "    }\n",
       "\n",
       "    .dataframe thead th {\n",
       "        text-align: right;\n",
       "    }\n",
       "</style>\n",
       "<table border=\"1\" class=\"dataframe\">\n",
       "  <thead>\n",
       "    <tr style=\"text-align: right;\">\n",
       "      <th></th>\n",
       "      <th>id</th>\n",
       "      <th>text</th>\n",
       "      <th>created_at</th>\n",
       "      <th>retweeted</th>\n",
       "      <th>retweet_count</th>\n",
       "      <th>name</th>\n",
       "      <th>user_screen_name</th>\n",
       "      <th>user_followers_count</th>\n",
       "      <th>user_location</th>\n",
       "      <th>Hashtags</th>\n",
       "      <th>tweet_hour</th>\n",
       "      <th>days</th>\n",
       "    </tr>\n",
       "  </thead>\n",
       "  <tbody>\n",
       "    <tr>\n",
       "      <td>0</td>\n",
       "      <td>1233294134179454976</td>\n",
       "      <td>amardeepkaushal deep learning chatbot everyth...</td>\n",
       "      <td>2020-02-28 07:33:29</td>\n",
       "      <td>False</td>\n",
       "      <td>62</td>\n",
       "      <td>J-FACE</td>\n",
       "      <td>JFace4Ever</td>\n",
       "      <td>1313</td>\n",
       "      <td>Charlotte, NC</td>\n",
       "      <td>[{'text': 'DigitalTransformation', 'indices': ...</td>\n",
       "      <td>7</td>\n",
       "      <td>Friday</td>\n",
       "    </tr>\n",
       "    <tr>\n",
       "      <td>1</td>\n",
       "      <td>1233294108036345857</td>\n",
       "      <td>amardeepkaushal deep learning chatbot everyth...</td>\n",
       "      <td>2020-02-28 07:33:23</td>\n",
       "      <td>False</td>\n",
       "      <td>62</td>\n",
       "      <td>Ybeezydakid101</td>\n",
       "      <td>OfficalYBPage</td>\n",
       "      <td>1510</td>\n",
       "      <td>Indianapolis, IN 46229</td>\n",
       "      <td>[{'text': 'DigitalTransformation', 'indices': ...</td>\n",
       "      <td>7</td>\n",
       "      <td>Friday</td>\n",
       "    </tr>\n",
       "    <tr>\n",
       "      <td>2</td>\n",
       "      <td>1233294099849129984</td>\n",
       "      <td>machine learning deep learning aificial intell...</td>\n",
       "      <td>2020-02-28 07:33:21</td>\n",
       "      <td>False</td>\n",
       "      <td>0</td>\n",
       "      <td>Chuck Russell</td>\n",
       "      <td>cichuck</td>\n",
       "      <td>22827</td>\n",
       "      <td>Harrisburg, PA</td>\n",
       "      <td>[{'text': 'tech', 'indices': [104, 109]}]</td>\n",
       "      <td>7</td>\n",
       "      <td>Friday</td>\n",
       "    </tr>\n",
       "    <tr>\n",
       "      <td>3</td>\n",
       "      <td>1233294059088891905</td>\n",
       "      <td>oracleanalytics make datascience team effo co...</td>\n",
       "      <td>2020-02-28 07:33:11</td>\n",
       "      <td>False</td>\n",
       "      <td>6</td>\n",
       "      <td>HubofMachineLearning</td>\n",
       "      <td>hubofml</td>\n",
       "      <td>1834</td>\n",
       "      <td>Germany</td>\n",
       "      <td>[{'text': 'datascience', 'indices': [38, 50]}]</td>\n",
       "      <td>7</td>\n",
       "      <td>Friday</td>\n",
       "    </tr>\n",
       "    <tr>\n",
       "      <td>4</td>\n",
       "      <td>1233294037127507968</td>\n",
       "      <td>oracleanalytics make datascience team effo co...</td>\n",
       "      <td>2020-02-28 07:33:06</td>\n",
       "      <td>False</td>\n",
       "      <td>6</td>\n",
       "      <td>Gabriel Trauvitch</td>\n",
       "      <td>gtrauvit</td>\n",
       "      <td>165</td>\n",
       "      <td>Athens, Greece</td>\n",
       "      <td>[{'text': 'datascience', 'indices': [38, 50]}]</td>\n",
       "      <td>7</td>\n",
       "      <td>Friday</td>\n",
       "    </tr>\n",
       "    <tr>\n",
       "      <td>5</td>\n",
       "      <td>1233293836899713028</td>\n",
       "      <td>gp_pulipaka best paper award iclr bigdata ana...</td>\n",
       "      <td>2020-02-28 07:32:18</td>\n",
       "      <td>False</td>\n",
       "      <td>30</td>\n",
       "      <td>CyberSecurityBot 🤖</td>\n",
       "      <td>CyberSecCare</td>\n",
       "      <td>83</td>\n",
       "      <td>Matrix</td>\n",
       "      <td>[{'text': 'BigData', 'indices': [48, 56]}, {'t...</td>\n",
       "      <td>7</td>\n",
       "      <td>Friday</td>\n",
       "    </tr>\n",
       "    <tr>\n",
       "      <td>6</td>\n",
       "      <td>1233293823691743235</td>\n",
       "      <td>gp_pulipaka best paper award iclr bigdata ana...</td>\n",
       "      <td>2020-02-28 07:32:15</td>\n",
       "      <td>False</td>\n",
       "      <td>30</td>\n",
       "      <td>LinuxBot</td>\n",
       "      <td>LlnuxBot</td>\n",
       "      <td>1239</td>\n",
       "      <td>Raspberry Pi</td>\n",
       "      <td>[{'text': 'BigData', 'indices': [48, 56]}, {'t...</td>\n",
       "      <td>7</td>\n",
       "      <td>Friday</td>\n",
       "    </tr>\n",
       "    <tr>\n",
       "      <td>7</td>\n",
       "      <td>1233293822613999617</td>\n",
       "      <td>amardeepkaushal deep learning chatbot everyth...</td>\n",
       "      <td>2020-02-28 07:32:15</td>\n",
       "      <td>False</td>\n",
       "      <td>62</td>\n",
       "      <td>Red Bizzle</td>\n",
       "      <td>RedBizzle131</td>\n",
       "      <td>1272</td>\n",
       "      <td>Tra Riverz, MI</td>\n",
       "      <td>[{'text': 'DigitalTransformation', 'indices': ...</td>\n",
       "      <td>7</td>\n",
       "      <td>Friday</td>\n",
       "    </tr>\n",
       "    <tr>\n",
       "      <td>8</td>\n",
       "      <td>1233293788065476608</td>\n",
       "      <td>ai datascience ml robotics machine learning pa...</td>\n",
       "      <td>2020-02-28 07:32:07</td>\n",
       "      <td>False</td>\n",
       "      <td>0</td>\n",
       "      <td>Kevin Cooper</td>\n",
       "      <td>KevinCooperCEO</td>\n",
       "      <td>2334</td>\n",
       "      <td></td>\n",
       "      <td>[{'text': 'AI', 'indices': [0, 3]}, {'text': '...</td>\n",
       "      <td>7</td>\n",
       "      <td>Friday</td>\n",
       "    </tr>\n",
       "    <tr>\n",
       "      <td>9</td>\n",
       "      <td>1233293714652618753</td>\n",
       "      <td>amardeepkaushal deep learning chatbot everyth...</td>\n",
       "      <td>2020-02-28 07:31:49</td>\n",
       "      <td>False</td>\n",
       "      <td>62</td>\n",
       "      <td>Brick</td>\n",
       "      <td>MrneedaBrick</td>\n",
       "      <td>839</td>\n",
       "      <td>Atlanta, GA</td>\n",
       "      <td>[{'text': 'DigitalTransformation', 'indices': ...</td>\n",
       "      <td>7</td>\n",
       "      <td>Friday</td>\n",
       "    </tr>\n",
       "    <tr>\n",
       "      <td>10</td>\n",
       "      <td>1233293692519272448</td>\n",
       "      <td>amardeepkaushal deep learning chatbot everyth...</td>\n",
       "      <td>2020-02-28 07:31:44</td>\n",
       "      <td>False</td>\n",
       "      <td>62</td>\n",
       "      <td>MeYouMusic</td>\n",
       "      <td>meyoumusicboy</td>\n",
       "      <td>2843</td>\n",
       "      <td>Atlanta, GA</td>\n",
       "      <td>[{'text': 'DigitalTransformation', 'indices': ...</td>\n",
       "      <td>7</td>\n",
       "      <td>Friday</td>\n",
       "    </tr>\n",
       "    <tr>\n",
       "      <td>11</td>\n",
       "      <td>1233293690136719360</td>\n",
       "      <td>sklausdev machine learning encrypted data lon...</td>\n",
       "      <td>2020-02-28 07:31:43</td>\n",
       "      <td>False</td>\n",
       "      <td>1</td>\n",
       "      <td>Harshavardhan S</td>\n",
       "      <td>HarshaSanthoor</td>\n",
       "      <td>8</td>\n",
       "      <td></td>\n",
       "      <td>[{'text': 'MachineLearning', 'indices': [88, 1...</td>\n",
       "      <td>7</td>\n",
       "      <td>Friday</td>\n",
       "    </tr>\n",
       "    <tr>\n",
       "      <td>12</td>\n",
       "      <td>1233293658914512898</td>\n",
       "      <td>idalail data analytics sql newbs beginner mar...</td>\n",
       "      <td>2020-02-28 07:31:36</td>\n",
       "      <td>False</td>\n",
       "      <td>11</td>\n",
       "      <td>HubofMachineLearning</td>\n",
       "      <td>hubofml</td>\n",
       "      <td>1834</td>\n",
       "      <td>Germany</td>\n",
       "      <td>[{'text': 'data', 'indices': [103, 108]}, {'te...</td>\n",
       "      <td>7</td>\n",
       "      <td>Friday</td>\n",
       "    </tr>\n",
       "    <tr>\n",
       "      <td>13</td>\n",
       "      <td>1233293654510460928</td>\n",
       "      <td>gp_pulipaka best paper award iclr bigdata ana...</td>\n",
       "      <td>2020-02-28 07:31:35</td>\n",
       "      <td>False</td>\n",
       "      <td>30</td>\n",
       "      <td>HubofMachineLearning</td>\n",
       "      <td>hubofml</td>\n",
       "      <td>1834</td>\n",
       "      <td>Germany</td>\n",
       "      <td>[{'text': 'BigData', 'indices': [48, 56]}, {'t...</td>\n",
       "      <td>7</td>\n",
       "      <td>Friday</td>\n",
       "    </tr>\n",
       "    <tr>\n",
       "      <td>14</td>\n",
       "      <td>1233293650949365760</td>\n",
       "      <td>omkar_raii staup like synctactic democratisin...</td>\n",
       "      <td>2020-02-28 07:31:34</td>\n",
       "      <td>False</td>\n",
       "      <td>197</td>\n",
       "      <td>Hemanth Kumar R</td>\n",
       "      <td>Hemanthkr15586</td>\n",
       "      <td>54</td>\n",
       "      <td>Bengaluru</td>\n",
       "      <td>[{'text': 'DataScience', 'indices': [68, 80]},...</td>\n",
       "      <td>7</td>\n",
       "      <td>Friday</td>\n",
       "    </tr>\n",
       "  </tbody>\n",
       "</table>\n",
       "</div>"
      ],
      "text/plain": [
       "                     id                                               text  \\\n",
       "0   1233294134179454976   amardeepkaushal deep learning chatbot everyth...   \n",
       "1   1233294108036345857   amardeepkaushal deep learning chatbot everyth...   \n",
       "2   1233294099849129984  machine learning deep learning aificial intell...   \n",
       "3   1233294059088891905   oracleanalytics make datascience team effo co...   \n",
       "4   1233294037127507968   oracleanalytics make datascience team effo co...   \n",
       "5   1233293836899713028   gp_pulipaka best paper award iclr bigdata ana...   \n",
       "6   1233293823691743235   gp_pulipaka best paper award iclr bigdata ana...   \n",
       "7   1233293822613999617   amardeepkaushal deep learning chatbot everyth...   \n",
       "8   1233293788065476608  ai datascience ml robotics machine learning pa...   \n",
       "9   1233293714652618753   amardeepkaushal deep learning chatbot everyth...   \n",
       "10  1233293692519272448   amardeepkaushal deep learning chatbot everyth...   \n",
       "11  1233293690136719360   sklausdev machine learning encrypted data lon...   \n",
       "12  1233293658914512898   idalail data analytics sql newbs beginner mar...   \n",
       "13  1233293654510460928   gp_pulipaka best paper award iclr bigdata ana...   \n",
       "14  1233293650949365760   omkar_raii staup like synctactic democratisin...   \n",
       "\n",
       "            created_at  retweeted  retweet_count                  name  \\\n",
       "0  2020-02-28 07:33:29      False             62                J-FACE   \n",
       "1  2020-02-28 07:33:23      False             62        Ybeezydakid101   \n",
       "2  2020-02-28 07:33:21      False              0         Chuck Russell   \n",
       "3  2020-02-28 07:33:11      False              6  HubofMachineLearning   \n",
       "4  2020-02-28 07:33:06      False              6     Gabriel Trauvitch   \n",
       "5  2020-02-28 07:32:18      False             30    CyberSecurityBot 🤖   \n",
       "6  2020-02-28 07:32:15      False             30              LinuxBot   \n",
       "7  2020-02-28 07:32:15      False             62            Red Bizzle   \n",
       "8  2020-02-28 07:32:07      False              0          Kevin Cooper   \n",
       "9  2020-02-28 07:31:49      False             62                 Brick   \n",
       "10 2020-02-28 07:31:44      False             62            MeYouMusic   \n",
       "11 2020-02-28 07:31:43      False              1       Harshavardhan S   \n",
       "12 2020-02-28 07:31:36      False             11  HubofMachineLearning   \n",
       "13 2020-02-28 07:31:35      False             30  HubofMachineLearning   \n",
       "14 2020-02-28 07:31:34      False            197       Hemanth Kumar R   \n",
       "\n",
       "   user_screen_name  user_followers_count            user_location  \\\n",
       "0        JFace4Ever                  1313            Charlotte, NC   \n",
       "1     OfficalYBPage                  1510   Indianapolis, IN 46229   \n",
       "2           cichuck                 22827           Harrisburg, PA   \n",
       "3           hubofml                  1834                 Germany    \n",
       "4          gtrauvit                   165           Athens, Greece   \n",
       "5      CyberSecCare                    83                   Matrix   \n",
       "6          LlnuxBot                  1239             Raspberry Pi   \n",
       "7      RedBizzle131                  1272           Tra Riverz, MI   \n",
       "8    KevinCooperCEO                  2334                            \n",
       "9      MrneedaBrick                   839              Atlanta, GA   \n",
       "10    meyoumusicboy                  2843              Atlanta, GA   \n",
       "11   HarshaSanthoor                     8                            \n",
       "12          hubofml                  1834                 Germany    \n",
       "13          hubofml                  1834                 Germany    \n",
       "14   Hemanthkr15586                    54                Bengaluru   \n",
       "\n",
       "                                             Hashtags  tweet_hour    days  \n",
       "0   [{'text': 'DigitalTransformation', 'indices': ...           7  Friday  \n",
       "1   [{'text': 'DigitalTransformation', 'indices': ...           7  Friday  \n",
       "2           [{'text': 'tech', 'indices': [104, 109]}]           7  Friday  \n",
       "3      [{'text': 'datascience', 'indices': [38, 50]}]           7  Friday  \n",
       "4      [{'text': 'datascience', 'indices': [38, 50]}]           7  Friday  \n",
       "5   [{'text': 'BigData', 'indices': [48, 56]}, {'t...           7  Friday  \n",
       "6   [{'text': 'BigData', 'indices': [48, 56]}, {'t...           7  Friday  \n",
       "7   [{'text': 'DigitalTransformation', 'indices': ...           7  Friday  \n",
       "8   [{'text': 'AI', 'indices': [0, 3]}, {'text': '...           7  Friday  \n",
       "9   [{'text': 'DigitalTransformation', 'indices': ...           7  Friday  \n",
       "10  [{'text': 'DigitalTransformation', 'indices': ...           7  Friday  \n",
       "11  [{'text': 'MachineLearning', 'indices': [88, 1...           7  Friday  \n",
       "12  [{'text': 'data', 'indices': [103, 108]}, {'te...           7  Friday  \n",
       "13  [{'text': 'BigData', 'indices': [48, 56]}, {'t...           7  Friday  \n",
       "14  [{'text': 'DataScience', 'indices': [68, 80]},...           7  Friday  "
      ]
     },
     "execution_count": 122,
     "metadata": {},
     "output_type": "execute_result"
    }
   ],
   "source": [
    "df"
   ]
  },
  {
   "cell_type": "code",
   "execution_count": 123,
   "metadata": {},
   "outputs": [],
   "source": [
    "from textblob import TextBlob"
   ]
  },
  {
   "cell_type": "code",
   "execution_count": 124,
   "metadata": {},
   "outputs": [],
   "source": [
    "def sentiment_score(df):\n",
    "    text = df['text']\n",
    "    \n",
    "    for i in range(0, len(text)):\n",
    "        textB = TextBlob(text[i])\n",
    "        sentiment_score = textB.sentiment.polarity\n",
    "        df.set_value(i, 'sentiment_score', sentiment_score)\n",
    "        \n",
    "        \n",
    "        if sentiment_score < 0.00:\n",
    "            sentiment_class = 'Negative'\n",
    "            df.set_value(i, 'sentiment_class', sentiment_class)\n",
    "            \n",
    "        elif sentiment_score > 0.00:\n",
    "            sentiment_class ='Positive'\n",
    "            df.set_value(i, 'sentiment_class', sentiment_class)\n",
    "        else:\n",
    "            sentiment_class = 'Notr'\n",
    "            df.set_value(i, 'sentiment_class', sentiment_class)\n",
    "    return df\n",
    "\n"
   ]
  },
  {
   "cell_type": "code",
   "execution_count": 125,
   "metadata": {},
   "outputs": [
    {
     "data": {
      "text/html": [
       "<div>\n",
       "<style scoped>\n",
       "    .dataframe tbody tr th:only-of-type {\n",
       "        vertical-align: middle;\n",
       "    }\n",
       "\n",
       "    .dataframe tbody tr th {\n",
       "        vertical-align: top;\n",
       "    }\n",
       "\n",
       "    .dataframe thead th {\n",
       "        text-align: right;\n",
       "    }\n",
       "</style>\n",
       "<table border=\"1\" class=\"dataframe\">\n",
       "  <thead>\n",
       "    <tr style=\"text-align: right;\">\n",
       "      <th></th>\n",
       "      <th>id</th>\n",
       "      <th>text</th>\n",
       "      <th>created_at</th>\n",
       "      <th>retweeted</th>\n",
       "      <th>retweet_count</th>\n",
       "      <th>name</th>\n",
       "      <th>user_screen_name</th>\n",
       "      <th>user_followers_count</th>\n",
       "      <th>user_location</th>\n",
       "      <th>Hashtags</th>\n",
       "      <th>tweet_hour</th>\n",
       "      <th>days</th>\n",
       "      <th>sentiment_score</th>\n",
       "      <th>sentiment_class</th>\n",
       "    </tr>\n",
       "  </thead>\n",
       "  <tbody>\n",
       "    <tr>\n",
       "      <td>0</td>\n",
       "      <td>1233294134179454976</td>\n",
       "      <td>amardeepkaushal deep learning chatbot everyth...</td>\n",
       "      <td>2020-02-28 07:33:29</td>\n",
       "      <td>False</td>\n",
       "      <td>62</td>\n",
       "      <td>J-FACE</td>\n",
       "      <td>JFace4Ever</td>\n",
       "      <td>1313</td>\n",
       "      <td>Charlotte, NC</td>\n",
       "      <td>[{'text': 'DigitalTransformation', 'indices': ...</td>\n",
       "      <td>7</td>\n",
       "      <td>Friday</td>\n",
       "      <td>0.0</td>\n",
       "      <td>Notr</td>\n",
       "    </tr>\n",
       "    <tr>\n",
       "      <td>1</td>\n",
       "      <td>1233294108036345857</td>\n",
       "      <td>amardeepkaushal deep learning chatbot everyth...</td>\n",
       "      <td>2020-02-28 07:33:23</td>\n",
       "      <td>False</td>\n",
       "      <td>62</td>\n",
       "      <td>Ybeezydakid101</td>\n",
       "      <td>OfficalYBPage</td>\n",
       "      <td>1510</td>\n",
       "      <td>Indianapolis, IN 46229</td>\n",
       "      <td>[{'text': 'DigitalTransformation', 'indices': ...</td>\n",
       "      <td>7</td>\n",
       "      <td>Friday</td>\n",
       "      <td>0.0</td>\n",
       "      <td>Notr</td>\n",
       "    </tr>\n",
       "    <tr>\n",
       "      <td>2</td>\n",
       "      <td>1233294099849129984</td>\n",
       "      <td>machine learning deep learning aificial intell...</td>\n",
       "      <td>2020-02-28 07:33:21</td>\n",
       "      <td>False</td>\n",
       "      <td>0</td>\n",
       "      <td>Chuck Russell</td>\n",
       "      <td>cichuck</td>\n",
       "      <td>22827</td>\n",
       "      <td>Harrisburg, PA</td>\n",
       "      <td>[{'text': 'tech', 'indices': [104, 109]}]</td>\n",
       "      <td>7</td>\n",
       "      <td>Friday</td>\n",
       "      <td>0.0</td>\n",
       "      <td>Notr</td>\n",
       "    </tr>\n",
       "    <tr>\n",
       "      <td>3</td>\n",
       "      <td>1233294059088891905</td>\n",
       "      <td>oracleanalytics make datascience team effo co...</td>\n",
       "      <td>2020-02-28 07:33:11</td>\n",
       "      <td>False</td>\n",
       "      <td>6</td>\n",
       "      <td>HubofMachineLearning</td>\n",
       "      <td>hubofml</td>\n",
       "      <td>1834</td>\n",
       "      <td>Germany</td>\n",
       "      <td>[{'text': 'datascience', 'indices': [38, 50]}]</td>\n",
       "      <td>7</td>\n",
       "      <td>Friday</td>\n",
       "      <td>0.0</td>\n",
       "      <td>Notr</td>\n",
       "    </tr>\n",
       "    <tr>\n",
       "      <td>4</td>\n",
       "      <td>1233294037127507968</td>\n",
       "      <td>oracleanalytics make datascience team effo co...</td>\n",
       "      <td>2020-02-28 07:33:06</td>\n",
       "      <td>False</td>\n",
       "      <td>6</td>\n",
       "      <td>Gabriel Trauvitch</td>\n",
       "      <td>gtrauvit</td>\n",
       "      <td>165</td>\n",
       "      <td>Athens, Greece</td>\n",
       "      <td>[{'text': 'datascience', 'indices': [38, 50]}]</td>\n",
       "      <td>7</td>\n",
       "      <td>Friday</td>\n",
       "      <td>0.0</td>\n",
       "      <td>Notr</td>\n",
       "    </tr>\n",
       "    <tr>\n",
       "      <td>5</td>\n",
       "      <td>1233293836899713028</td>\n",
       "      <td>gp_pulipaka best paper award iclr bigdata ana...</td>\n",
       "      <td>2020-02-28 07:32:18</td>\n",
       "      <td>False</td>\n",
       "      <td>30</td>\n",
       "      <td>CyberSecurityBot 🤖</td>\n",
       "      <td>CyberSecCare</td>\n",
       "      <td>83</td>\n",
       "      <td>Matrix</td>\n",
       "      <td>[{'text': 'BigData', 'indices': [48, 56]}, {'t...</td>\n",
       "      <td>7</td>\n",
       "      <td>Friday</td>\n",
       "      <td>1.0</td>\n",
       "      <td>Positive</td>\n",
       "    </tr>\n",
       "    <tr>\n",
       "      <td>6</td>\n",
       "      <td>1233293823691743235</td>\n",
       "      <td>gp_pulipaka best paper award iclr bigdata ana...</td>\n",
       "      <td>2020-02-28 07:32:15</td>\n",
       "      <td>False</td>\n",
       "      <td>30</td>\n",
       "      <td>LinuxBot</td>\n",
       "      <td>LlnuxBot</td>\n",
       "      <td>1239</td>\n",
       "      <td>Raspberry Pi</td>\n",
       "      <td>[{'text': 'BigData', 'indices': [48, 56]}, {'t...</td>\n",
       "      <td>7</td>\n",
       "      <td>Friday</td>\n",
       "      <td>1.0</td>\n",
       "      <td>Positive</td>\n",
       "    </tr>\n",
       "    <tr>\n",
       "      <td>7</td>\n",
       "      <td>1233293822613999617</td>\n",
       "      <td>amardeepkaushal deep learning chatbot everyth...</td>\n",
       "      <td>2020-02-28 07:32:15</td>\n",
       "      <td>False</td>\n",
       "      <td>62</td>\n",
       "      <td>Red Bizzle</td>\n",
       "      <td>RedBizzle131</td>\n",
       "      <td>1272</td>\n",
       "      <td>Tra Riverz, MI</td>\n",
       "      <td>[{'text': 'DigitalTransformation', 'indices': ...</td>\n",
       "      <td>7</td>\n",
       "      <td>Friday</td>\n",
       "      <td>0.0</td>\n",
       "      <td>Notr</td>\n",
       "    </tr>\n",
       "    <tr>\n",
       "      <td>8</td>\n",
       "      <td>1233293788065476608</td>\n",
       "      <td>ai datascience ml robotics machine learning pa...</td>\n",
       "      <td>2020-02-28 07:32:07</td>\n",
       "      <td>False</td>\n",
       "      <td>0</td>\n",
       "      <td>Kevin Cooper</td>\n",
       "      <td>KevinCooperCEO</td>\n",
       "      <td>2334</td>\n",
       "      <td></td>\n",
       "      <td>[{'text': 'AI', 'indices': [0, 3]}, {'text': '...</td>\n",
       "      <td>7</td>\n",
       "      <td>Friday</td>\n",
       "      <td>0.0</td>\n",
       "      <td>Notr</td>\n",
       "    </tr>\n",
       "    <tr>\n",
       "      <td>9</td>\n",
       "      <td>1233293714652618753</td>\n",
       "      <td>amardeepkaushal deep learning chatbot everyth...</td>\n",
       "      <td>2020-02-28 07:31:49</td>\n",
       "      <td>False</td>\n",
       "      <td>62</td>\n",
       "      <td>Brick</td>\n",
       "      <td>MrneedaBrick</td>\n",
       "      <td>839</td>\n",
       "      <td>Atlanta, GA</td>\n",
       "      <td>[{'text': 'DigitalTransformation', 'indices': ...</td>\n",
       "      <td>7</td>\n",
       "      <td>Friday</td>\n",
       "      <td>0.0</td>\n",
       "      <td>Notr</td>\n",
       "    </tr>\n",
       "    <tr>\n",
       "      <td>10</td>\n",
       "      <td>1233293692519272448</td>\n",
       "      <td>amardeepkaushal deep learning chatbot everyth...</td>\n",
       "      <td>2020-02-28 07:31:44</td>\n",
       "      <td>False</td>\n",
       "      <td>62</td>\n",
       "      <td>MeYouMusic</td>\n",
       "      <td>meyoumusicboy</td>\n",
       "      <td>2843</td>\n",
       "      <td>Atlanta, GA</td>\n",
       "      <td>[{'text': 'DigitalTransformation', 'indices': ...</td>\n",
       "      <td>7</td>\n",
       "      <td>Friday</td>\n",
       "      <td>0.0</td>\n",
       "      <td>Notr</td>\n",
       "    </tr>\n",
       "    <tr>\n",
       "      <td>11</td>\n",
       "      <td>1233293690136719360</td>\n",
       "      <td>sklausdev machine learning encrypted data lon...</td>\n",
       "      <td>2020-02-28 07:31:43</td>\n",
       "      <td>False</td>\n",
       "      <td>1</td>\n",
       "      <td>Harshavardhan S</td>\n",
       "      <td>HarshaSanthoor</td>\n",
       "      <td>8</td>\n",
       "      <td></td>\n",
       "      <td>[{'text': 'MachineLearning', 'indices': [88, 1...</td>\n",
       "      <td>7</td>\n",
       "      <td>Friday</td>\n",
       "      <td>0.0</td>\n",
       "      <td>Notr</td>\n",
       "    </tr>\n",
       "    <tr>\n",
       "      <td>12</td>\n",
       "      <td>1233293658914512898</td>\n",
       "      <td>idalail data analytics sql newbs beginner mar...</td>\n",
       "      <td>2020-02-28 07:31:36</td>\n",
       "      <td>False</td>\n",
       "      <td>11</td>\n",
       "      <td>HubofMachineLearning</td>\n",
       "      <td>hubofml</td>\n",
       "      <td>1834</td>\n",
       "      <td>Germany</td>\n",
       "      <td>[{'text': 'data', 'indices': [103, 108]}, {'te...</td>\n",
       "      <td>7</td>\n",
       "      <td>Friday</td>\n",
       "      <td>0.0</td>\n",
       "      <td>Notr</td>\n",
       "    </tr>\n",
       "    <tr>\n",
       "      <td>13</td>\n",
       "      <td>1233293654510460928</td>\n",
       "      <td>gp_pulipaka best paper award iclr bigdata ana...</td>\n",
       "      <td>2020-02-28 07:31:35</td>\n",
       "      <td>False</td>\n",
       "      <td>30</td>\n",
       "      <td>HubofMachineLearning</td>\n",
       "      <td>hubofml</td>\n",
       "      <td>1834</td>\n",
       "      <td>Germany</td>\n",
       "      <td>[{'text': 'BigData', 'indices': [48, 56]}, {'t...</td>\n",
       "      <td>7</td>\n",
       "      <td>Friday</td>\n",
       "      <td>1.0</td>\n",
       "      <td>Positive</td>\n",
       "    </tr>\n",
       "    <tr>\n",
       "      <td>14</td>\n",
       "      <td>1233293650949365760</td>\n",
       "      <td>omkar_raii staup like synctactic democratisin...</td>\n",
       "      <td>2020-02-28 07:31:34</td>\n",
       "      <td>False</td>\n",
       "      <td>197</td>\n",
       "      <td>Hemanth Kumar R</td>\n",
       "      <td>Hemanthkr15586</td>\n",
       "      <td>54</td>\n",
       "      <td>Bengaluru</td>\n",
       "      <td>[{'text': 'DataScience', 'indices': [68, 80]},...</td>\n",
       "      <td>7</td>\n",
       "      <td>Friday</td>\n",
       "      <td>0.0</td>\n",
       "      <td>Notr</td>\n",
       "    </tr>\n",
       "  </tbody>\n",
       "</table>\n",
       "</div>"
      ],
      "text/plain": [
       "                     id                                               text  \\\n",
       "0   1233294134179454976   amardeepkaushal deep learning chatbot everyth...   \n",
       "1   1233294108036345857   amardeepkaushal deep learning chatbot everyth...   \n",
       "2   1233294099849129984  machine learning deep learning aificial intell...   \n",
       "3   1233294059088891905   oracleanalytics make datascience team effo co...   \n",
       "4   1233294037127507968   oracleanalytics make datascience team effo co...   \n",
       "5   1233293836899713028   gp_pulipaka best paper award iclr bigdata ana...   \n",
       "6   1233293823691743235   gp_pulipaka best paper award iclr bigdata ana...   \n",
       "7   1233293822613999617   amardeepkaushal deep learning chatbot everyth...   \n",
       "8   1233293788065476608  ai datascience ml robotics machine learning pa...   \n",
       "9   1233293714652618753   amardeepkaushal deep learning chatbot everyth...   \n",
       "10  1233293692519272448   amardeepkaushal deep learning chatbot everyth...   \n",
       "11  1233293690136719360   sklausdev machine learning encrypted data lon...   \n",
       "12  1233293658914512898   idalail data analytics sql newbs beginner mar...   \n",
       "13  1233293654510460928   gp_pulipaka best paper award iclr bigdata ana...   \n",
       "14  1233293650949365760   omkar_raii staup like synctactic democratisin...   \n",
       "\n",
       "            created_at  retweeted  retweet_count                  name  \\\n",
       "0  2020-02-28 07:33:29      False             62                J-FACE   \n",
       "1  2020-02-28 07:33:23      False             62        Ybeezydakid101   \n",
       "2  2020-02-28 07:33:21      False              0         Chuck Russell   \n",
       "3  2020-02-28 07:33:11      False              6  HubofMachineLearning   \n",
       "4  2020-02-28 07:33:06      False              6     Gabriel Trauvitch   \n",
       "5  2020-02-28 07:32:18      False             30    CyberSecurityBot 🤖   \n",
       "6  2020-02-28 07:32:15      False             30              LinuxBot   \n",
       "7  2020-02-28 07:32:15      False             62            Red Bizzle   \n",
       "8  2020-02-28 07:32:07      False              0          Kevin Cooper   \n",
       "9  2020-02-28 07:31:49      False             62                 Brick   \n",
       "10 2020-02-28 07:31:44      False             62            MeYouMusic   \n",
       "11 2020-02-28 07:31:43      False              1       Harshavardhan S   \n",
       "12 2020-02-28 07:31:36      False             11  HubofMachineLearning   \n",
       "13 2020-02-28 07:31:35      False             30  HubofMachineLearning   \n",
       "14 2020-02-28 07:31:34      False            197       Hemanth Kumar R   \n",
       "\n",
       "   user_screen_name  user_followers_count            user_location  \\\n",
       "0        JFace4Ever                  1313            Charlotte, NC   \n",
       "1     OfficalYBPage                  1510   Indianapolis, IN 46229   \n",
       "2           cichuck                 22827           Harrisburg, PA   \n",
       "3           hubofml                  1834                 Germany    \n",
       "4          gtrauvit                   165           Athens, Greece   \n",
       "5      CyberSecCare                    83                   Matrix   \n",
       "6          LlnuxBot                  1239             Raspberry Pi   \n",
       "7      RedBizzle131                  1272           Tra Riverz, MI   \n",
       "8    KevinCooperCEO                  2334                            \n",
       "9      MrneedaBrick                   839              Atlanta, GA   \n",
       "10    meyoumusicboy                  2843              Atlanta, GA   \n",
       "11   HarshaSanthoor                     8                            \n",
       "12          hubofml                  1834                 Germany    \n",
       "13          hubofml                  1834                 Germany    \n",
       "14   Hemanthkr15586                    54                Bengaluru   \n",
       "\n",
       "                                             Hashtags  tweet_hour    days  \\\n",
       "0   [{'text': 'DigitalTransformation', 'indices': ...           7  Friday   \n",
       "1   [{'text': 'DigitalTransformation', 'indices': ...           7  Friday   \n",
       "2           [{'text': 'tech', 'indices': [104, 109]}]           7  Friday   \n",
       "3      [{'text': 'datascience', 'indices': [38, 50]}]           7  Friday   \n",
       "4      [{'text': 'datascience', 'indices': [38, 50]}]           7  Friday   \n",
       "5   [{'text': 'BigData', 'indices': [48, 56]}, {'t...           7  Friday   \n",
       "6   [{'text': 'BigData', 'indices': [48, 56]}, {'t...           7  Friday   \n",
       "7   [{'text': 'DigitalTransformation', 'indices': ...           7  Friday   \n",
       "8   [{'text': 'AI', 'indices': [0, 3]}, {'text': '...           7  Friday   \n",
       "9   [{'text': 'DigitalTransformation', 'indices': ...           7  Friday   \n",
       "10  [{'text': 'DigitalTransformation', 'indices': ...           7  Friday   \n",
       "11  [{'text': 'MachineLearning', 'indices': [88, 1...           7  Friday   \n",
       "12  [{'text': 'data', 'indices': [103, 108]}, {'te...           7  Friday   \n",
       "13  [{'text': 'BigData', 'indices': [48, 56]}, {'t...           7  Friday   \n",
       "14  [{'text': 'DataScience', 'indices': [68, 80]},...           7  Friday   \n",
       "\n",
       "    sentiment_score sentiment_class  \n",
       "0               0.0            Notr  \n",
       "1               0.0            Notr  \n",
       "2               0.0            Notr  \n",
       "3               0.0            Notr  \n",
       "4               0.0            Notr  \n",
       "5               1.0        Positive  \n",
       "6               1.0        Positive  \n",
       "7               0.0            Notr  \n",
       "8               0.0            Notr  \n",
       "9               0.0            Notr  \n",
       "10              0.0            Notr  \n",
       "11              0.0            Notr  \n",
       "12              0.0            Notr  \n",
       "13              1.0        Positive  \n",
       "14              0.0            Notr  "
      ]
     },
     "execution_count": 125,
     "metadata": {},
     "output_type": "execute_result"
    }
   ],
   "source": [
    "sentiment_score(df)"
   ]
  },
  {
   "cell_type": "code",
   "execution_count": 126,
   "metadata": {},
   "outputs": [
    {
     "data": {
      "text/plain": [
       "sentiment_class\n",
       "Notr        12\n",
       "Positive     3\n",
       "Name: id, dtype: int64"
      ]
     },
     "execution_count": 126,
     "metadata": {},
     "output_type": "execute_result"
    }
   ],
   "source": [
    "df.groupby('sentiment_class').count()['id']"
   ]
  },
  {
   "cell_type": "code",
   "execution_count": 127,
   "metadata": {},
   "outputs": [],
   "source": [
    "sentiment_freq = df.groupby('sentiment_class').count()['id']"
   ]
  },
  {
   "cell_type": "code",
   "execution_count": 128,
   "metadata": {},
   "outputs": [
    {
     "data": {
      "text/plain": [
       "<matplotlib.axes._subplots.AxesSubplot at 0x7ffa60fa20b8>"
      ]
     },
     "execution_count": 128,
     "metadata": {},
     "output_type": "execute_result"
    },
    {
     "data": {
      "image/png": "[encoded data removed]",
      "text/plain": [
       "<Figure size 432x288 with 1 Axes>"
      ]
     },
     "metadata": {
      "needs_background": "light"
     },
     "output_type": "display_data"
    }
   ],
   "source": [
    "sentiment_freq.plot.bar(x= 'sentiment_class', y='id')"
   ]
  },
  {
   "cell_type": "code",
   "execution_count": 129,
   "metadata": {},
   "outputs": [],
   "source": [
    "tweets = api.search(q = '#apple', lang='en', count=5000)"
   ]
  },
  {
   "cell_type": "code",
   "execution_count": 130,
   "metadata": {},
   "outputs": [],
   "source": [
    "def hashtag_df(results):\n",
    "    id_list = [tweet.id for tweet in results]\n",
    "    data_set = pd.DataFrame(id_list,columns=['id'])\n",
    "    \n",
    "    \n",
    "    data_set['text'] = [tweet.text for tweet in results]\n",
    "    data_set['created_at'] = [tweet.created_at for tweet in results]\n",
    "    data_set['retweeted'] = [tweet.retweeted for tweet in results]\n",
    "    data_set['retweet_count'] = [tweet.retweet_count for tweet in results]\n",
    "    data_set['name'] = [tweet.author.name for tweet in results]\n",
    "    data_set['user_screen_name'] = [tweet.author.screen_name for tweet in results]\n",
    "    data_set['user_followers_count'] = [tweet.author.followers_count for tweet in results]\n",
    "    data_set['user_location'] = [tweet.author.location for tweet in results]\n",
    "    data_set['Hashtags'] = [tweet.entities.get('hashtags') for tweet in results]\n",
    "    \n",
    "    return data_set"
   ]
  },
  {
   "cell_type": "code",
   "execution_count": 131,
   "metadata": {},
   "outputs": [],
   "source": [
    "df = hashtag_df(tweets)"
   ]
  },
  {
   "cell_type": "code",
   "execution_count": 132,
   "metadata": {},
   "outputs": [
    {
     "data": {
      "text/plain": [
       "(100, 10)"
      ]
     },
     "execution_count": 132,
     "metadata": {},
     "output_type": "execute_result"
    }
   ],
   "source": [
    "df.shape"
   ]
  },
  {
   "cell_type": "code",
   "execution_count": 133,
   "metadata": {},
   "outputs": [],
   "source": [
    "\n",
    "df['text'] = df['text'].apply(lambda x: \" \".join(x.lower() for x in x.split()))\n",
    "\n",
    "df['text'] = df['text'].str.replace('[^\\w\\s]', '')\n",
    "\n",
    "df['text'] = df['text'].str.replace('[\\d]','')\n",
    "\n",
    "\n",
    "import nltk\n",
    "from nltk.corpus import stopwords\n",
    "sw = stopwords.words('english')\n",
    "df['text'] = df['text'].apply(lambda x: \" \".join(x for x in x.split() if x not in sw))\n",
    "\n",
    "#lemmi\n",
    "from textblob import Word\n",
    "df['text'] = df['text'].apply(lambda x: \" \".join([Word(word).lemmatize() for word in x.split()] ))\n",
    "\n",
    "df['text'] = df['text'].str.replace('rt', '')"
   ]
  },
  {
   "cell_type": "code",
   "execution_count": 134,
   "metadata": {},
   "outputs": [],
   "source": [
    "def sentiment_score(df):\n",
    "    text = df['text']\n",
    "    \n",
    "    for i in range(0, len(text)):\n",
    "        textB = TextBlob(text[i])\n",
    "        sentiment_score = textB.sentiment.polarity\n",
    "        df.set_value(i, 'sentiment_score', sentiment_score)\n",
    "        \n",
    "        \n",
    "        if sentiment_score < 0.00:\n",
    "            sentiment_class = 'Negative'\n",
    "            df.set_value(i, 'sentiment_class', sentiment_class)\n",
    "            \n",
    "        elif sentiment_score > 0.00:\n",
    "            sentiment_class ='Positive'\n",
    "            df.set_value(i, 'sentiment_class', sentiment_class)\n",
    "        else:\n",
    "            sentiment_class = 'Notr'\n",
    "            df.set_value(i, 'sentiment_class', sentiment_class)\n",
    "    return df"
   ]
  },
  {
   "cell_type": "code",
   "execution_count": 135,
   "metadata": {},
   "outputs": [],
   "source": [
    "df = sentiment_score(df)"
   ]
  },
  {
   "cell_type": "code",
   "execution_count": 136,
   "metadata": {},
   "outputs": [],
   "source": [
    "sentiment_freq = df.groupby('sentiment_class').count()['id']"
   ]
  },
  {
   "cell_type": "code",
   "execution_count": 137,
   "metadata": {},
   "outputs": [
    {
     "data": {
      "text/plain": [
       "sentiment_class\n",
       "Negative    12\n",
       "Notr        70\n",
       "Positive    18\n",
       "Name: id, dtype: int64"
      ]
     },
     "execution_count": 137,
     "metadata": {},
     "output_type": "execute_result"
    }
   ],
   "source": [
    "sentiment_freq"
   ]
  },
  {
   "cell_type": "code",
   "execution_count": 138,
   "metadata": {},
   "outputs": [
    {
     "data": {
      "text/plain": [
       "<matplotlib.axes._subplots.AxesSubplot at 0x7ffa6e2d3400>"
      ]
     },
     "execution_count": 138,
     "metadata": {},
     "output_type": "execute_result"
    },
    {
     "data": {
      "image/png": "[encoded data removed]",
      "text/plain": [
       "<Figure size 432x288 with 1 Axes>"
      ]
     },
     "metadata": {
      "needs_background": "light"
     },
     "output_type": "display_data"
    }
   ],
   "source": [
    "sentiment_freq.plot.bar(x = 'sentiment_class', y= 'id')"
   ]
  },
  {
   "cell_type": "markdown",
   "metadata": {},
   "source": [
    "# Thus Text Minning On Tweets from Twitter  is Done and Processed"
   ]
  }
 ],
 "metadata": {
  "kernelspec": {
   "display_name": "Python 3",
   "language": "python",
   "name": "python3"
  },
  "language_info": {
   "codemirror_mode": {
    "name": "ipython",
    "version": 3
   },
   "file_extension": ".py",
   "mimetype": "text/x-python",
   "name": "python",
   "nbconvert_exporter": "python",
   "pygments_lexer": "ipython3",
   "version": "3.8.5"
  },
  "varInspector": {
   "cols": {
    "lenName": 16,
    "lenType": 16,
    "lenVar": 40
   },
   "kernels_config": {
    "python": {
     "delete_cmd_postfix": "",
     "delete_cmd_prefix": "del ",
     "library": "var_list.py",
     "varRefreshCmd": "print(var_dic_list())"
    },
    "r": {
     "delete_cmd_postfix": ") ",
     "delete_cmd_prefix": "rm(",
     "library": "var_list.r",
     "varRefreshCmd": "cat(var_dic_list()) "
    }
   },
   "types_to_exclude": [
    "module",
    "function",
    "builtin_function_or_method",
    "instance",
    "_Feature"
   ],
   "window_display": false
  }
 },
 "nbformat": 4,
 "nbformat_minor": 4
}
